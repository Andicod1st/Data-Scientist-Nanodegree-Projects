{
 "cells": [
  {
   "cell_type": "markdown",
   "metadata": {},
   "source": [
    "###  Datathon2020 – Predicting weather disruption of public transport – provided by Ernst and Young\n",
    "\n",
    "This Capstone project was inspired from the Business Case of the just concluded Data Science Society Global 2020 Hackathon hosted from May 15 - 17 , 2020 which i participated in.\n",
    "\n",
    "click <a href='https://www.datasciencesociety.net/predicting-weather-disruption-of-public-transport/'>here</a> for details about the Business Case and the data dictionary\n",
    " \n",
    "#####  Data Sources : \n",
    "The weather dataset used in this project was provided by the organizers, however the external transport data sourced for were obtained <a href='https://www.dubaipulse.gov.ae/organisation/rta/service/rta-public-transports?organisation=rta&service=rta-public-transports&dataset=rta_public_transport_trips_by_type_of_transport_month-open'>here</a> "
   ]
  },
  {
   "cell_type": "markdown",
   "metadata": {},
   "source": [
    "### The analysis for this project will follow the CRISP-DM pipeline which are ;\n",
    "<a id='the_destination'></a>\n",
    "+ Business Understanding \n",
    "+ Data Understanding\n",
    "+ Data Preparation\n",
    "+ Data Modelling\n",
    "+ Results\n",
    "+ Deployment - Storytelling\n"
   ]
  },
  {
   "cell_type": "markdown",
   "metadata": {},
   "source": [
    "###  1. Business Understanding\n",
    "\n",
    "+ Data Use Case Introduction\n",
    "\n",
    "Climate change is projected to increase the frequency and intensity of some extreme weather events which is likely to damage transportation infrastructure and cause a disruption in the public transport and increase the risk of delays and failure due to storm, flooding and higher temperatures affecting the reliability and capacity of the public transportation.\n",
    "\n",
    "+ The Goal\n",
    "\n",
    "Can you analyze the weather data to predict public transport service disruption in Dubai? How can we plan for less disruption in the wake of severe weather conditions and leverage the emergency management plan as well as providing uninterrupted services and products to citizens?\n",
    "\n",
    "More details about the business case and the provider of the problem to proffer solution can be find <a href='https://www.datasciencesociety.net/predicting-weather-disruption-of-public-transport/'>here</a>"
   ]
  },
  {
   "cell_type": "markdown",
   "metadata": {},
   "source": [
    " "
   ]
  },
  {
   "cell_type": "markdown",
   "metadata": {},
   "source": [
    "### 2. Data Understanding and Data Preprocessing \n",
    "\n",
    "This stage involves loading the data and performing necessary data cleaning, preprocessing and feature engineering on the data to prepare it for analysis and modelling"
   ]
  },
  {
   "cell_type": "markdown",
   "metadata": {},
   "source": [
    "+ Importing Necessary Libraries"
   ]
  },
  {
   "cell_type": "code",
   "execution_count": 96,
   "metadata": {},
   "outputs": [],
   "source": [
    "import numpy as np\n",
    "\n",
    "import pandas as pd\n",
    "import matplotlib.pyplot as plt\n",
    "import seaborn as sns\n",
    "\n",
    "import datetime as dt\n",
    "import datetime\n",
    "\n",
    "import warnings\n",
    "warnings.filterwarnings('ignore')\n",
    "\n",
    "import re\n",
    "import os\n",
    "%matplotlib inline\n",
    "\n",
    "plt.style.use('ggplot')\n",
    "import plotly.graph_objects as go"
   ]
  },
  {
   "cell_type": "markdown",
   "metadata": {},
   "source": [
    "+ Loading the datasets into a dataframe"
   ]
  },
  {
   "cell_type": "code",
   "execution_count": 97,
   "metadata": {},
   "outputs": [],
   "source": [
    "data = pd.read_json('Data/Dubai+Weather_20180101_20200316.txt')\n",
    "transport = pd.DataFrame(data=None,columns=['year','month','transport_type','trips'])\n",
    "\n",
    "for i in os.listdir('Data/Transport'):\n",
    "    month_data = pd.read_csv(\"Data/Transport/\" + i)\n",
    "    transport = pd.concat([transport,month_data],axis=0)"
   ]
  },
  {
   "cell_type": "code",
   "execution_count": 98,
   "metadata": {},
   "outputs": [
    {
     "data": {
      "text/plain": [
       "(19344, 11)"
      ]
     },
     "execution_count": 98,
     "metadata": {},
     "output_type": "execute_result"
    }
   ],
   "source": [
    "data.shape"
   ]
  },
  {
   "cell_type": "code",
   "execution_count": 99,
   "metadata": {},
   "outputs": [
    {
     "data": {
      "text/html": [
       "<div>\n",
       "<style scoped>\n",
       "    .dataframe tbody tr th:only-of-type {\n",
       "        vertical-align: middle;\n",
       "    }\n",
       "\n",
       "    .dataframe tbody tr th {\n",
       "        vertical-align: top;\n",
       "    }\n",
       "\n",
       "    .dataframe thead th {\n",
       "        text-align: right;\n",
       "    }\n",
       "</style>\n",
       "<table border=\"1\" class=\"dataframe\">\n",
       "  <thead>\n",
       "    <tr style=\"text-align: right;\">\n",
       "      <th></th>\n",
       "      <th>city_name</th>\n",
       "      <th>lat</th>\n",
       "      <th>lon</th>\n",
       "      <th>main</th>\n",
       "      <th>wind</th>\n",
       "      <th>clouds</th>\n",
       "      <th>weather</th>\n",
       "      <th>dt</th>\n",
       "      <th>dt_iso</th>\n",
       "      <th>timezone</th>\n",
       "      <th>rain</th>\n",
       "    </tr>\n",
       "  </thead>\n",
       "  <tbody>\n",
       "    <tr>\n",
       "      <th>19341</th>\n",
       "      <td>Dubai</td>\n",
       "      <td>25.07501</td>\n",
       "      <td>55.188761</td>\n",
       "      <td>{'temp': 21.52, 'temp_min': 20, 'temp_max': 23...</td>\n",
       "      <td>{'speed': 3.1, 'deg': 60}</td>\n",
       "      <td>{'all': 0}</td>\n",
       "      <td>[{'id': 800, 'main': 'Clear', 'description': '...</td>\n",
       "      <td>1584392400</td>\n",
       "      <td>2020-03-16 21:00:00 +0000 UTC</td>\n",
       "      <td>14400</td>\n",
       "      <td>NaN</td>\n",
       "    </tr>\n",
       "    <tr>\n",
       "      <th>19342</th>\n",
       "      <td>Dubai</td>\n",
       "      <td>25.07501</td>\n",
       "      <td>55.188761</td>\n",
       "      <td>{'temp': 21.04, 'temp_min': 19, 'temp_max': 23...</td>\n",
       "      <td>{'speed': 3.1, 'deg': 70}</td>\n",
       "      <td>{'all': 0}</td>\n",
       "      <td>[{'id': 800, 'main': 'Clear', 'description': '...</td>\n",
       "      <td>1584396000</td>\n",
       "      <td>2020-03-16 22:00:00 +0000 UTC</td>\n",
       "      <td>14400</td>\n",
       "      <td>NaN</td>\n",
       "    </tr>\n",
       "    <tr>\n",
       "      <th>19343</th>\n",
       "      <td>Dubai</td>\n",
       "      <td>25.07501</td>\n",
       "      <td>55.188761</td>\n",
       "      <td>{'temp': 20.31, 'temp_min': 18, 'temp_max': 23...</td>\n",
       "      <td>{'speed': 3.6, 'deg': 60}</td>\n",
       "      <td>{'all': 0}</td>\n",
       "      <td>[{'id': 800, 'main': 'Clear', 'description': '...</td>\n",
       "      <td>1584399600</td>\n",
       "      <td>2020-03-16 23:00:00 +0000 UTC</td>\n",
       "      <td>14400</td>\n",
       "      <td>NaN</td>\n",
       "    </tr>\n",
       "  </tbody>\n",
       "</table>\n",
       "</div>"
      ],
      "text/plain": [
       "      city_name       lat        lon  \\\n",
       "19341     Dubai  25.07501  55.188761   \n",
       "19342     Dubai  25.07501  55.188761   \n",
       "19343     Dubai  25.07501  55.188761   \n",
       "\n",
       "                                                    main  \\\n",
       "19341  {'temp': 21.52, 'temp_min': 20, 'temp_max': 23...   \n",
       "19342  {'temp': 21.04, 'temp_min': 19, 'temp_max': 23...   \n",
       "19343  {'temp': 20.31, 'temp_min': 18, 'temp_max': 23...   \n",
       "\n",
       "                            wind      clouds  \\\n",
       "19341  {'speed': 3.1, 'deg': 60}  {'all': 0}   \n",
       "19342  {'speed': 3.1, 'deg': 70}  {'all': 0}   \n",
       "19343  {'speed': 3.6, 'deg': 60}  {'all': 0}   \n",
       "\n",
       "                                                 weather          dt  \\\n",
       "19341  [{'id': 800, 'main': 'Clear', 'description': '...  1584392400   \n",
       "19342  [{'id': 800, 'main': 'Clear', 'description': '...  1584396000   \n",
       "19343  [{'id': 800, 'main': 'Clear', 'description': '...  1584399600   \n",
       "\n",
       "                              dt_iso  timezone rain  \n",
       "19341  2020-03-16 21:00:00 +0000 UTC     14400  NaN  \n",
       "19342  2020-03-16 22:00:00 +0000 UTC     14400  NaN  \n",
       "19343  2020-03-16 23:00:00 +0000 UTC     14400  NaN  "
      ]
     },
     "execution_count": 99,
     "metadata": {},
     "output_type": "execute_result"
    }
   ],
   "source": [
    "data.tail(3)"
   ]
  },
  {
   "cell_type": "markdown",
   "metadata": {},
   "source": [
    "+ Data Preprocessing and Data Cleaning"
   ]
  },
  {
   "cell_type": "code",
   "execution_count": 100,
   "metadata": {},
   "outputs": [
    {
     "name": "stdout",
     "output_type": "stream",
     "text": [
      "<class 'pandas.core.frame.DataFrame'>\n",
      "Int64Index: 95 entries, 0 to 1\n",
      "Data columns (total 4 columns):\n",
      " #   Column          Non-Null Count  Dtype \n",
      "---  ------          --------------  ----- \n",
      " 0   year            95 non-null     object\n",
      " 1   month           95 non-null     object\n",
      " 2   transport_type  95 non-null     object\n",
      " 3   trips           95 non-null     object\n",
      "dtypes: object(4)\n",
      "memory usage: 3.7+ KB\n"
     ]
    }
   ],
   "source": [
    "transport.info()"
   ]
  },
  {
   "cell_type": "code",
   "execution_count": 101,
   "metadata": {},
   "outputs": [],
   "source": [
    "transport.reset_index(inplace=True)\n",
    "transport.drop('index',axis=1,inplace=True)"
   ]
  },
  {
   "cell_type": "code",
   "execution_count": 102,
   "metadata": {},
   "outputs": [
    {
     "data": {
      "text/plain": [
       "array(['Feb', 'Mar', 'Apr', 'May', 'Jun', 'Jul', 'Aug', 'Sep', 'Oct',\n",
       "       'Nov', 'Dec', 'Jan'], dtype=object)"
      ]
     },
     "execution_count": 102,
     "metadata": {},
     "output_type": "execute_result"
    }
   ],
   "source": [
    "transport.month.unique()"
   ]
  },
  {
   "cell_type": "code",
   "execution_count": 103,
   "metadata": {},
   "outputs": [],
   "source": [
    "def create_id(col):\n",
    "    year = col[0]\n",
    "    month = col [1]\n",
    "    month_map = {'Jan':1, 'Feb':2, 'Mar':3,'Apr':4,\n",
    "                'May':5, 'Jun':6,'Jul':7,\"Aug\":8,'Sep':9,\n",
    "                'Oct':10,'Nov':11,'Dec':12}\n",
    "    \n",
    "    if year == 2018:\n",
    "        return month_map[month]\n",
    "    elif year== 2019:\n",
    "        return month_map[month] + 12\n",
    "    else :\n",
    "        return month_map[month] + 24"
   ]
  },
  {
   "cell_type": "code",
   "execution_count": 104,
   "metadata": {},
   "outputs": [],
   "source": [
    "transport['id'] = transport[['year','month']].apply(create_id,axis=1)"
   ]
  },
  {
   "cell_type": "code",
   "execution_count": 105,
   "metadata": {},
   "outputs": [
    {
     "data": {
      "text/html": [
       "<div>\n",
       "<style scoped>\n",
       "    .dataframe tbody tr th:only-of-type {\n",
       "        vertical-align: middle;\n",
       "    }\n",
       "\n",
       "    .dataframe tbody tr th {\n",
       "        vertical-align: top;\n",
       "    }\n",
       "\n",
       "    .dataframe thead th {\n",
       "        text-align: right;\n",
       "    }\n",
       "</style>\n",
       "<table border=\"1\" class=\"dataframe\">\n",
       "  <thead>\n",
       "    <tr style=\"text-align: right;\">\n",
       "      <th></th>\n",
       "      <th>year</th>\n",
       "      <th>month</th>\n",
       "      <th>transport_type</th>\n",
       "      <th>trips</th>\n",
       "      <th>id</th>\n",
       "    </tr>\n",
       "  </thead>\n",
       "  <tbody>\n",
       "    <tr>\n",
       "      <th>90</th>\n",
       "      <td>2020</td>\n",
       "      <td>Mar</td>\n",
       "      <td>Tram</td>\n",
       "      <td>5417</td>\n",
       "      <td>27</td>\n",
       "    </tr>\n",
       "    <tr>\n",
       "      <th>91</th>\n",
       "      <td>2020</td>\n",
       "      <td>Mar</td>\n",
       "      <td>Bus</td>\n",
       "      <td>177610</td>\n",
       "      <td>27</td>\n",
       "    </tr>\n",
       "    <tr>\n",
       "      <th>92</th>\n",
       "      <td>2020</td>\n",
       "      <td>Mar</td>\n",
       "      <td>Metro</td>\n",
       "      <td>148387</td>\n",
       "      <td>27</td>\n",
       "    </tr>\n",
       "    <tr>\n",
       "      <th>93</th>\n",
       "      <td>2020</td>\n",
       "      <td>Apr</td>\n",
       "      <td>Bus</td>\n",
       "      <td>40126</td>\n",
       "      <td>28</td>\n",
       "    </tr>\n",
       "    <tr>\n",
       "      <th>94</th>\n",
       "      <td>2020</td>\n",
       "      <td>Apr</td>\n",
       "      <td>Metro</td>\n",
       "      <td>2</td>\n",
       "      <td>28</td>\n",
       "    </tr>\n",
       "  </tbody>\n",
       "</table>\n",
       "</div>"
      ],
      "text/plain": [
       "    year month transport_type   trips  id\n",
       "90  2020   Mar           Tram    5417  27\n",
       "91  2020   Mar            Bus  177610  27\n",
       "92  2020   Mar          Metro  148387  27\n",
       "93  2020   Apr            Bus   40126  28\n",
       "94  2020   Apr          Metro       2  28"
      ]
     },
     "execution_count": 105,
     "metadata": {},
     "output_type": "execute_result"
    }
   ],
   "source": [
    "transport.tail()"
   ]
  },
  {
   "cell_type": "markdown",
   "metadata": {},
   "source": [
    "+ Transforming the date to pandas date format \n",
    "\n",
    "+ Dropping columns with constant labels such as `city_name` and `timezone`"
   ]
  },
  {
   "cell_type": "code",
   "execution_count": 106,
   "metadata": {},
   "outputs": [],
   "source": [
    "data.drop(['city_name','timezone','dt_iso'],axis=1,inplace=True)"
   ]
  },
  {
   "cell_type": "code",
   "execution_count": 107,
   "metadata": {},
   "outputs": [],
   "source": [
    "def convert_time(timestamp):\n",
    "    return datetime.datetime.fromtimestamp(timestamp).strftime('%Y-%m-%d %H:%M:%S')"
   ]
  },
  {
   "cell_type": "code",
   "execution_count": 108,
   "metadata": {},
   "outputs": [],
   "source": [
    "data['dt'] = data['dt'].apply(convert_time)\n",
    "data['dt'] = pd.to_datetime(data['dt'])"
   ]
  },
  {
   "cell_type": "code",
   "execution_count": 109,
   "metadata": {},
   "outputs": [
    {
     "data": {
      "text/html": [
       "<div>\n",
       "<style scoped>\n",
       "    .dataframe tbody tr th:only-of-type {\n",
       "        vertical-align: middle;\n",
       "    }\n",
       "\n",
       "    .dataframe tbody tr th {\n",
       "        vertical-align: top;\n",
       "    }\n",
       "\n",
       "    .dataframe thead th {\n",
       "        text-align: right;\n",
       "    }\n",
       "</style>\n",
       "<table border=\"1\" class=\"dataframe\">\n",
       "  <thead>\n",
       "    <tr style=\"text-align: right;\">\n",
       "      <th></th>\n",
       "      <th>lat</th>\n",
       "      <th>lon</th>\n",
       "      <th>main</th>\n",
       "      <th>wind</th>\n",
       "      <th>clouds</th>\n",
       "      <th>weather</th>\n",
       "      <th>dt</th>\n",
       "      <th>rain</th>\n",
       "    </tr>\n",
       "  </thead>\n",
       "  <tbody>\n",
       "    <tr>\n",
       "      <th>0</th>\n",
       "      <td>25.07501</td>\n",
       "      <td>55.188761</td>\n",
       "      <td>{'temp': 14.99, 'temp_min': 13, 'temp_max': 18...</td>\n",
       "      <td>{'speed': 3.1, 'deg': 150}</td>\n",
       "      <td>{'all': 1}</td>\n",
       "      <td>[{'id': 800, 'main': 'Clear', 'description': '...</td>\n",
       "      <td>2018-01-01 01:00:00</td>\n",
       "      <td>NaN</td>\n",
       "    </tr>\n",
       "    <tr>\n",
       "      <th>1</th>\n",
       "      <td>25.07501</td>\n",
       "      <td>55.188761</td>\n",
       "      <td>{'temp': 14.63, 'temp_min': 13, 'temp_max': 17...</td>\n",
       "      <td>{'speed': 2.6, 'deg': 150}</td>\n",
       "      <td>{'all': 1}</td>\n",
       "      <td>[{'id': 800, 'main': 'Clear', 'description': '...</td>\n",
       "      <td>2018-01-01 02:00:00</td>\n",
       "      <td>NaN</td>\n",
       "    </tr>\n",
       "  </tbody>\n",
       "</table>\n",
       "</div>"
      ],
      "text/plain": [
       "        lat        lon                                               main  \\\n",
       "0  25.07501  55.188761  {'temp': 14.99, 'temp_min': 13, 'temp_max': 18...   \n",
       "1  25.07501  55.188761  {'temp': 14.63, 'temp_min': 13, 'temp_max': 17...   \n",
       "\n",
       "                         wind      clouds  \\\n",
       "0  {'speed': 3.1, 'deg': 150}  {'all': 1}   \n",
       "1  {'speed': 2.6, 'deg': 150}  {'all': 1}   \n",
       "\n",
       "                                             weather                  dt rain  \n",
       "0  [{'id': 800, 'main': 'Clear', 'description': '... 2018-01-01 01:00:00  NaN  \n",
       "1  [{'id': 800, 'main': 'Clear', 'description': '... 2018-01-01 02:00:00  NaN  "
      ]
     },
     "execution_count": 109,
     "metadata": {},
     "output_type": "execute_result"
    }
   ],
   "source": [
    "data.head(2)"
   ]
  },
  {
   "cell_type": "code",
   "execution_count": 110,
   "metadata": {},
   "outputs": [
    {
     "data": {
      "text/html": [
       "<div>\n",
       "<style scoped>\n",
       "    .dataframe tbody tr th:only-of-type {\n",
       "        vertical-align: middle;\n",
       "    }\n",
       "\n",
       "    .dataframe tbody tr th {\n",
       "        vertical-align: top;\n",
       "    }\n",
       "\n",
       "    .dataframe thead th {\n",
       "        text-align: right;\n",
       "    }\n",
       "</style>\n",
       "<table border=\"1\" class=\"dataframe\">\n",
       "  <thead>\n",
       "    <tr style=\"text-align: right;\">\n",
       "      <th></th>\n",
       "      <th>year</th>\n",
       "      <th>month</th>\n",
       "      <th>transport_type</th>\n",
       "      <th>trips</th>\n",
       "      <th>id</th>\n",
       "    </tr>\n",
       "  </thead>\n",
       "  <tbody>\n",
       "    <tr>\n",
       "      <th>0</th>\n",
       "      <td>2018</td>\n",
       "      <td>Feb</td>\n",
       "      <td>Marine</td>\n",
       "      <td>141840</td>\n",
       "      <td>2</td>\n",
       "    </tr>\n",
       "    <tr>\n",
       "      <th>1</th>\n",
       "      <td>2018</td>\n",
       "      <td>Feb</td>\n",
       "      <td>Tram</td>\n",
       "      <td>528515</td>\n",
       "      <td>2</td>\n",
       "    </tr>\n",
       "  </tbody>\n",
       "</table>\n",
       "</div>"
      ],
      "text/plain": [
       "   year month transport_type   trips  id\n",
       "0  2018   Feb         Marine  141840   2\n",
       "1  2018   Feb           Tram  528515   2"
      ]
     },
     "execution_count": 110,
     "metadata": {},
     "output_type": "execute_result"
    }
   ],
   "source": [
    "transport.head(2)"
   ]
  },
  {
   "cell_type": "markdown",
   "metadata": {},
   "source": [
    "####   Feature Engineering "
   ]
  },
  {
   "cell_type": "markdown",
   "metadata": {},
   "source": [
    "+ Using the date column created to engineer new date time features such as `Month` and `Year`"
   ]
  },
  {
   "cell_type": "code",
   "execution_count": 111,
   "metadata": {},
   "outputs": [],
   "source": [
    "data['month'] = data['dt'].dt.month\n",
    "data['year'] = data['dt'].dt.year\n",
    "data['weekdays'] = data['dt'].dt.weekday"
   ]
  },
  {
   "cell_type": "code",
   "execution_count": 112,
   "metadata": {},
   "outputs": [
    {
     "data": {
      "text/html": [
       "<div>\n",
       "<style scoped>\n",
       "    .dataframe tbody tr th:only-of-type {\n",
       "        vertical-align: middle;\n",
       "    }\n",
       "\n",
       "    .dataframe tbody tr th {\n",
       "        vertical-align: top;\n",
       "    }\n",
       "\n",
       "    .dataframe thead th {\n",
       "        text-align: right;\n",
       "    }\n",
       "</style>\n",
       "<table border=\"1\" class=\"dataframe\">\n",
       "  <thead>\n",
       "    <tr style=\"text-align: right;\">\n",
       "      <th></th>\n",
       "      <th>lat</th>\n",
       "      <th>lon</th>\n",
       "      <th>main</th>\n",
       "      <th>wind</th>\n",
       "      <th>clouds</th>\n",
       "      <th>weather</th>\n",
       "      <th>dt</th>\n",
       "      <th>rain</th>\n",
       "      <th>month</th>\n",
       "      <th>year</th>\n",
       "      <th>weekdays</th>\n",
       "    </tr>\n",
       "  </thead>\n",
       "  <tbody>\n",
       "    <tr>\n",
       "      <th>0</th>\n",
       "      <td>25.07501</td>\n",
       "      <td>55.188761</td>\n",
       "      <td>{'temp': 14.99, 'temp_min': 13, 'temp_max': 18...</td>\n",
       "      <td>{'speed': 3.1, 'deg': 150}</td>\n",
       "      <td>{'all': 1}</td>\n",
       "      <td>[{'id': 800, 'main': 'Clear', 'description': '...</td>\n",
       "      <td>2018-01-01 01:00:00</td>\n",
       "      <td>NaN</td>\n",
       "      <td>1</td>\n",
       "      <td>2018</td>\n",
       "      <td>0</td>\n",
       "    </tr>\n",
       "    <tr>\n",
       "      <th>1</th>\n",
       "      <td>25.07501</td>\n",
       "      <td>55.188761</td>\n",
       "      <td>{'temp': 14.63, 'temp_min': 13, 'temp_max': 17...</td>\n",
       "      <td>{'speed': 2.6, 'deg': 150}</td>\n",
       "      <td>{'all': 1}</td>\n",
       "      <td>[{'id': 800, 'main': 'Clear', 'description': '...</td>\n",
       "      <td>2018-01-01 02:00:00</td>\n",
       "      <td>NaN</td>\n",
       "      <td>1</td>\n",
       "      <td>2018</td>\n",
       "      <td>0</td>\n",
       "    </tr>\n",
       "    <tr>\n",
       "      <th>2</th>\n",
       "      <td>25.07501</td>\n",
       "      <td>55.188761</td>\n",
       "      <td>{'temp': 14.03, 'temp_min': 12, 'temp_max': 17...</td>\n",
       "      <td>{'speed': 1.5, 'deg': 150}</td>\n",
       "      <td>{'all': 1}</td>\n",
       "      <td>[{'id': 800, 'main': 'Clear', 'description': '...</td>\n",
       "      <td>2018-01-01 03:00:00</td>\n",
       "      <td>NaN</td>\n",
       "      <td>1</td>\n",
       "      <td>2018</td>\n",
       "      <td>0</td>\n",
       "    </tr>\n",
       "    <tr>\n",
       "      <th>3</th>\n",
       "      <td>25.07501</td>\n",
       "      <td>55.188761</td>\n",
       "      <td>{'temp': 13.78, 'temp_min': 12, 'temp_max': 17...</td>\n",
       "      <td>{'speed': 2.1, 'deg': 180}</td>\n",
       "      <td>{'all': 1}</td>\n",
       "      <td>[{'id': 701, 'main': 'Mist', 'description': 'm...</td>\n",
       "      <td>2018-01-01 04:00:00</td>\n",
       "      <td>NaN</td>\n",
       "      <td>1</td>\n",
       "      <td>2018</td>\n",
       "      <td>0</td>\n",
       "    </tr>\n",
       "    <tr>\n",
       "      <th>4</th>\n",
       "      <td>25.07501</td>\n",
       "      <td>55.188761</td>\n",
       "      <td>{'temp': 14.28, 'temp_min': 12, 'temp_max': 18...</td>\n",
       "      <td>{'speed': 2.6, 'deg': 160}</td>\n",
       "      <td>{'all': 1}</td>\n",
       "      <td>[{'id': 701, 'main': 'Mist', 'description': 'm...</td>\n",
       "      <td>2018-01-01 05:00:00</td>\n",
       "      <td>NaN</td>\n",
       "      <td>1</td>\n",
       "      <td>2018</td>\n",
       "      <td>0</td>\n",
       "    </tr>\n",
       "  </tbody>\n",
       "</table>\n",
       "</div>"
      ],
      "text/plain": [
       "        lat        lon                                               main  \\\n",
       "0  25.07501  55.188761  {'temp': 14.99, 'temp_min': 13, 'temp_max': 18...   \n",
       "1  25.07501  55.188761  {'temp': 14.63, 'temp_min': 13, 'temp_max': 17...   \n",
       "2  25.07501  55.188761  {'temp': 14.03, 'temp_min': 12, 'temp_max': 17...   \n",
       "3  25.07501  55.188761  {'temp': 13.78, 'temp_min': 12, 'temp_max': 17...   \n",
       "4  25.07501  55.188761  {'temp': 14.28, 'temp_min': 12, 'temp_max': 18...   \n",
       "\n",
       "                         wind      clouds  \\\n",
       "0  {'speed': 3.1, 'deg': 150}  {'all': 1}   \n",
       "1  {'speed': 2.6, 'deg': 150}  {'all': 1}   \n",
       "2  {'speed': 1.5, 'deg': 150}  {'all': 1}   \n",
       "3  {'speed': 2.1, 'deg': 180}  {'all': 1}   \n",
       "4  {'speed': 2.6, 'deg': 160}  {'all': 1}   \n",
       "\n",
       "                                             weather                  dt rain  \\\n",
       "0  [{'id': 800, 'main': 'Clear', 'description': '... 2018-01-01 01:00:00  NaN   \n",
       "1  [{'id': 800, 'main': 'Clear', 'description': '... 2018-01-01 02:00:00  NaN   \n",
       "2  [{'id': 800, 'main': 'Clear', 'description': '... 2018-01-01 03:00:00  NaN   \n",
       "3  [{'id': 701, 'main': 'Mist', 'description': 'm... 2018-01-01 04:00:00  NaN   \n",
       "4  [{'id': 701, 'main': 'Mist', 'description': 'm... 2018-01-01 05:00:00  NaN   \n",
       "\n",
       "   month  year  weekdays  \n",
       "0      1  2018         0  \n",
       "1      1  2018         0  \n",
       "2      1  2018         0  \n",
       "3      1  2018         0  \n",
       "4      1  2018         0  "
      ]
     },
     "execution_count": 112,
     "metadata": {},
     "output_type": "execute_result"
    }
   ],
   "source": [
    "data.head()"
   ]
  },
  {
   "cell_type": "markdown",
   "metadata": {},
   "source": [
    "+ Creating the id in the `data` to be used to map the `Transport` data using the `Create id function`"
   ]
  },
  {
   "cell_type": "markdown",
   "metadata": {},
   "source": [
    "+ Transforming the `Main` , `Wind`, `Clouds` , `weather` and `rain` columns to extract the details into a proper format to be used for analysis"
   ]
  },
  {
   "cell_type": "code",
   "execution_count": 113,
   "metadata": {},
   "outputs": [
    {
     "data": {
      "text/plain": [
       "{'temp': 14.99,\n",
       " 'temp_min': 13,\n",
       " 'temp_max': 18,\n",
       " 'feels_like': 13.7,\n",
       " 'pressure': 1015,\n",
       " 'humidity': 87}"
      ]
     },
     "execution_count": 113,
     "metadata": {},
     "output_type": "execute_result"
    }
   ],
   "source": [
    "data['main'].iloc[0]"
   ]
  },
  {
   "cell_type": "code",
   "execution_count": 114,
   "metadata": {},
   "outputs": [],
   "source": [
    "main = data['main'].astype(str).str.strip('{}').str.split(', ', expand=True)\n",
    "wind = data['wind'].astype(str).str.strip('{}').str.split(', ', expand=True)\n",
    "weather = data['weather'].astype(str).str.strip('[{}]').str.split(', ', expand=True)"
   ]
  },
  {
   "cell_type": "markdown",
   "metadata": {},
   "source": [
    "+ Renaming the Columns"
   ]
  },
  {
   "cell_type": "code",
   "execution_count": 115,
   "metadata": {},
   "outputs": [],
   "source": [
    "main.columns = ['Main_temp','Temp_min','Temp_max','Feels_like','Pressure','Humidity']\n",
    "wind.columns = ['Wind_Speed','Wind_Deg']\n",
    "weather.columns = ['id','Main','Description','icon','5','6','7','8']\n",
    "weather.drop(['5','6','7','8'],axis=1,inplace=True)"
   ]
  },
  {
   "cell_type": "code",
   "execution_count": null,
   "metadata": {},
   "outputs": [],
   "source": []
  },
  {
   "cell_type": "code",
   "execution_count": 116,
   "metadata": {},
   "outputs": [],
   "source": [
    "data.drop(['main','wind','weather'],axis=1,inplace=True)\n",
    "data = pd.concat([data,main,wind,weather],axis=1)"
   ]
  },
  {
   "cell_type": "code",
   "execution_count": 117,
   "metadata": {},
   "outputs": [
    {
     "data": {
      "text/html": [
       "<div>\n",
       "<style scoped>\n",
       "    .dataframe tbody tr th:only-of-type {\n",
       "        vertical-align: middle;\n",
       "    }\n",
       "\n",
       "    .dataframe tbody tr th {\n",
       "        vertical-align: top;\n",
       "    }\n",
       "\n",
       "    .dataframe thead th {\n",
       "        text-align: right;\n",
       "    }\n",
       "</style>\n",
       "<table border=\"1\" class=\"dataframe\">\n",
       "  <thead>\n",
       "    <tr style=\"text-align: right;\">\n",
       "      <th></th>\n",
       "      <th>lat</th>\n",
       "      <th>lon</th>\n",
       "      <th>clouds</th>\n",
       "      <th>dt</th>\n",
       "      <th>rain</th>\n",
       "      <th>month</th>\n",
       "      <th>year</th>\n",
       "      <th>weekdays</th>\n",
       "      <th>Main_temp</th>\n",
       "      <th>Temp_min</th>\n",
       "      <th>Temp_max</th>\n",
       "      <th>Feels_like</th>\n",
       "      <th>Pressure</th>\n",
       "      <th>Humidity</th>\n",
       "      <th>Wind_Speed</th>\n",
       "      <th>Wind_Deg</th>\n",
       "      <th>id</th>\n",
       "      <th>Main</th>\n",
       "      <th>Description</th>\n",
       "      <th>icon</th>\n",
       "    </tr>\n",
       "  </thead>\n",
       "  <tbody>\n",
       "    <tr>\n",
       "      <th>0</th>\n",
       "      <td>25.07501</td>\n",
       "      <td>55.188761</td>\n",
       "      <td>{'all': 1}</td>\n",
       "      <td>2018-01-01 01:00:00</td>\n",
       "      <td>NaN</td>\n",
       "      <td>1</td>\n",
       "      <td>2018</td>\n",
       "      <td>0</td>\n",
       "      <td>'temp': 14.99</td>\n",
       "      <td>'temp_min': 13</td>\n",
       "      <td>'temp_max': 18</td>\n",
       "      <td>'feels_like': 13.7</td>\n",
       "      <td>'pressure': 1015</td>\n",
       "      <td>'humidity': 87</td>\n",
       "      <td>'speed': 3.1</td>\n",
       "      <td>'deg': 150</td>\n",
       "      <td>'id': 800</td>\n",
       "      <td>'main': 'Clear'</td>\n",
       "      <td>'description': 'sky is clear'</td>\n",
       "      <td>'icon': '01n'</td>\n",
       "    </tr>\n",
       "  </tbody>\n",
       "</table>\n",
       "</div>"
      ],
      "text/plain": [
       "        lat        lon      clouds                  dt rain  month  year  \\\n",
       "0  25.07501  55.188761  {'all': 1} 2018-01-01 01:00:00  NaN      1  2018   \n",
       "\n",
       "   weekdays      Main_temp        Temp_min        Temp_max  \\\n",
       "0         0  'temp': 14.99  'temp_min': 13  'temp_max': 18   \n",
       "\n",
       "           Feels_like          Pressure        Humidity    Wind_Speed  \\\n",
       "0  'feels_like': 13.7  'pressure': 1015  'humidity': 87  'speed': 3.1   \n",
       "\n",
       "     Wind_Deg         id             Main                    Description  \\\n",
       "0  'deg': 150  'id': 800  'main': 'Clear'  'description': 'sky is clear'   \n",
       "\n",
       "            icon  \n",
       "0  'icon': '01n'  "
      ]
     },
     "execution_count": 117,
     "metadata": {},
     "output_type": "execute_result"
    }
   ],
   "source": [
    "data.head(1)"
   ]
  },
  {
   "cell_type": "code",
   "execution_count": 118,
   "metadata": {},
   "outputs": [],
   "source": [
    "data['clouds'] = data['clouds'].astype(str).str.strip('{}').apply(lambda x:x.split(\": \")[-1])\n",
    "data['icon'] = data['icon'].astype(str).str.strip(':').apply(lambda x:x.split(\":\")[-1])"
   ]
  },
  {
   "cell_type": "code",
   "execution_count": 119,
   "metadata": {},
   "outputs": [
    {
     "data": {
      "text/html": [
       "<div>\n",
       "<style scoped>\n",
       "    .dataframe tbody tr th:only-of-type {\n",
       "        vertical-align: middle;\n",
       "    }\n",
       "\n",
       "    .dataframe tbody tr th {\n",
       "        vertical-align: top;\n",
       "    }\n",
       "\n",
       "    .dataframe thead th {\n",
       "        text-align: right;\n",
       "    }\n",
       "</style>\n",
       "<table border=\"1\" class=\"dataframe\">\n",
       "  <thead>\n",
       "    <tr style=\"text-align: right;\">\n",
       "      <th></th>\n",
       "      <th>lat</th>\n",
       "      <th>lon</th>\n",
       "      <th>clouds</th>\n",
       "      <th>dt</th>\n",
       "      <th>rain</th>\n",
       "      <th>month</th>\n",
       "      <th>year</th>\n",
       "      <th>weekdays</th>\n",
       "      <th>Main_temp</th>\n",
       "      <th>Temp_min</th>\n",
       "      <th>Temp_max</th>\n",
       "      <th>Feels_like</th>\n",
       "      <th>Pressure</th>\n",
       "      <th>Humidity</th>\n",
       "      <th>Wind_Speed</th>\n",
       "      <th>Wind_Deg</th>\n",
       "      <th>id</th>\n",
       "      <th>Main</th>\n",
       "      <th>Description</th>\n",
       "      <th>icon</th>\n",
       "    </tr>\n",
       "  </thead>\n",
       "  <tbody>\n",
       "    <tr>\n",
       "      <th>0</th>\n",
       "      <td>25.07501</td>\n",
       "      <td>55.188761</td>\n",
       "      <td>1</td>\n",
       "      <td>2018-01-01 01:00:00</td>\n",
       "      <td>NaN</td>\n",
       "      <td>1</td>\n",
       "      <td>2018</td>\n",
       "      <td>0</td>\n",
       "      <td>'temp': 14.99</td>\n",
       "      <td>'temp_min': 13</td>\n",
       "      <td>'temp_max': 18</td>\n",
       "      <td>'feels_like': 13.7</td>\n",
       "      <td>'pressure': 1015</td>\n",
       "      <td>'humidity': 87</td>\n",
       "      <td>'speed': 3.1</td>\n",
       "      <td>'deg': 150</td>\n",
       "      <td>'id': 800</td>\n",
       "      <td>'main': 'Clear'</td>\n",
       "      <td>'description': 'sky is clear'</td>\n",
       "      <td>'01n'</td>\n",
       "    </tr>\n",
       "    <tr>\n",
       "      <th>1</th>\n",
       "      <td>25.07501</td>\n",
       "      <td>55.188761</td>\n",
       "      <td>1</td>\n",
       "      <td>2018-01-01 02:00:00</td>\n",
       "      <td>NaN</td>\n",
       "      <td>1</td>\n",
       "      <td>2018</td>\n",
       "      <td>0</td>\n",
       "      <td>'temp': 14.63</td>\n",
       "      <td>'temp_min': 13</td>\n",
       "      <td>'temp_max': 17</td>\n",
       "      <td>'feels_like': 13.91</td>\n",
       "      <td>'pressure': 1015</td>\n",
       "      <td>'humidity': 93</td>\n",
       "      <td>'speed': 2.6</td>\n",
       "      <td>'deg': 150</td>\n",
       "      <td>'id': 800</td>\n",
       "      <td>'main': 'Clear'</td>\n",
       "      <td>'description': 'sky is clear'</td>\n",
       "      <td>'01n'</td>\n",
       "    </tr>\n",
       "    <tr>\n",
       "      <th>2</th>\n",
       "      <td>25.07501</td>\n",
       "      <td>55.188761</td>\n",
       "      <td>1</td>\n",
       "      <td>2018-01-01 03:00:00</td>\n",
       "      <td>NaN</td>\n",
       "      <td>1</td>\n",
       "      <td>2018</td>\n",
       "      <td>0</td>\n",
       "      <td>'temp': 14.03</td>\n",
       "      <td>'temp_min': 12</td>\n",
       "      <td>'temp_max': 17</td>\n",
       "      <td>'feels_like': 13.89</td>\n",
       "      <td>'pressure': 1016</td>\n",
       "      <td>'humidity': 93</td>\n",
       "      <td>'speed': 1.5</td>\n",
       "      <td>'deg': 150</td>\n",
       "      <td>'id': 800</td>\n",
       "      <td>'main': 'Clear'</td>\n",
       "      <td>'description': 'sky is clear'</td>\n",
       "      <td>'01n'</td>\n",
       "    </tr>\n",
       "    <tr>\n",
       "      <th>3</th>\n",
       "      <td>25.07501</td>\n",
       "      <td>55.188761</td>\n",
       "      <td>1</td>\n",
       "      <td>2018-01-01 04:00:00</td>\n",
       "      <td>NaN</td>\n",
       "      <td>1</td>\n",
       "      <td>2018</td>\n",
       "      <td>0</td>\n",
       "      <td>'temp': 13.78</td>\n",
       "      <td>'temp_min': 12</td>\n",
       "      <td>'temp_max': 17</td>\n",
       "      <td>'feels_like': 13.14</td>\n",
       "      <td>'pressure': 1016</td>\n",
       "      <td>'humidity': 93</td>\n",
       "      <td>'speed': 2.1</td>\n",
       "      <td>'deg': 180</td>\n",
       "      <td>'id': 701</td>\n",
       "      <td>'main': 'Mist'</td>\n",
       "      <td>'description': 'mist'</td>\n",
       "      <td>'50n'</td>\n",
       "    </tr>\n",
       "    <tr>\n",
       "      <th>4</th>\n",
       "      <td>25.07501</td>\n",
       "      <td>55.188761</td>\n",
       "      <td>1</td>\n",
       "      <td>2018-01-01 05:00:00</td>\n",
       "      <td>NaN</td>\n",
       "      <td>1</td>\n",
       "      <td>2018</td>\n",
       "      <td>0</td>\n",
       "      <td>'temp': 14.28</td>\n",
       "      <td>'temp_min': 12</td>\n",
       "      <td>'temp_max': 18</td>\n",
       "      <td>'feels_like': 13.45</td>\n",
       "      <td>'pressure': 1017</td>\n",
       "      <td>'humidity': 93</td>\n",
       "      <td>'speed': 2.6</td>\n",
       "      <td>'deg': 160</td>\n",
       "      <td>'id': 701</td>\n",
       "      <td>'main': 'Mist'</td>\n",
       "      <td>'description': 'mist'</td>\n",
       "      <td>'50d'</td>\n",
       "    </tr>\n",
       "  </tbody>\n",
       "</table>\n",
       "</div>"
      ],
      "text/plain": [
       "        lat        lon clouds                  dt rain  month  year  weekdays  \\\n",
       "0  25.07501  55.188761      1 2018-01-01 01:00:00  NaN      1  2018         0   \n",
       "1  25.07501  55.188761      1 2018-01-01 02:00:00  NaN      1  2018         0   \n",
       "2  25.07501  55.188761      1 2018-01-01 03:00:00  NaN      1  2018         0   \n",
       "3  25.07501  55.188761      1 2018-01-01 04:00:00  NaN      1  2018         0   \n",
       "4  25.07501  55.188761      1 2018-01-01 05:00:00  NaN      1  2018         0   \n",
       "\n",
       "       Main_temp        Temp_min        Temp_max           Feels_like  \\\n",
       "0  'temp': 14.99  'temp_min': 13  'temp_max': 18   'feels_like': 13.7   \n",
       "1  'temp': 14.63  'temp_min': 13  'temp_max': 17  'feels_like': 13.91   \n",
       "2  'temp': 14.03  'temp_min': 12  'temp_max': 17  'feels_like': 13.89   \n",
       "3  'temp': 13.78  'temp_min': 12  'temp_max': 17  'feels_like': 13.14   \n",
       "4  'temp': 14.28  'temp_min': 12  'temp_max': 18  'feels_like': 13.45   \n",
       "\n",
       "           Pressure        Humidity    Wind_Speed    Wind_Deg         id  \\\n",
       "0  'pressure': 1015  'humidity': 87  'speed': 3.1  'deg': 150  'id': 800   \n",
       "1  'pressure': 1015  'humidity': 93  'speed': 2.6  'deg': 150  'id': 800   \n",
       "2  'pressure': 1016  'humidity': 93  'speed': 1.5  'deg': 150  'id': 800   \n",
       "3  'pressure': 1016  'humidity': 93  'speed': 2.1  'deg': 180  'id': 701   \n",
       "4  'pressure': 1017  'humidity': 93  'speed': 2.6  'deg': 160  'id': 701   \n",
       "\n",
       "              Main                    Description    icon  \n",
       "0  'main': 'Clear'  'description': 'sky is clear'   '01n'  \n",
       "1  'main': 'Clear'  'description': 'sky is clear'   '01n'  \n",
       "2  'main': 'Clear'  'description': 'sky is clear'   '01n'  \n",
       "3   'main': 'Mist'          'description': 'mist'   '50n'  \n",
       "4   'main': 'Mist'          'description': 'mist'   '50d'  "
      ]
     },
     "execution_count": 119,
     "metadata": {},
     "output_type": "execute_result"
    }
   ],
   "source": [
    "data.head()"
   ]
  },
  {
   "cell_type": "code",
   "execution_count": 120,
   "metadata": {},
   "outputs": [],
   "source": [
    "def replace_nan(data):\n",
    "    if pd.isna(data):\n",
    "        return 0\n",
    "    else:\n",
    "        return 1"
   ]
  },
  {
   "cell_type": "code",
   "execution_count": 121,
   "metadata": {},
   "outputs": [],
   "source": [
    "data.rain = data.rain.apply(replace_nan)"
   ]
  },
  {
   "cell_type": "code",
   "execution_count": 122,
   "metadata": {},
   "outputs": [
    {
     "data": {
      "text/plain": [
       "0    19231\n",
       "1      113\n",
       "Name: rain, dtype: int64"
      ]
     },
     "execution_count": 122,
     "metadata": {},
     "output_type": "execute_result"
    }
   ],
   "source": [
    "data.rain.value_counts()"
   ]
  },
  {
   "cell_type": "code",
   "execution_count": 123,
   "metadata": {},
   "outputs": [
    {
     "data": {
      "text/html": [
       "<div>\n",
       "<style scoped>\n",
       "    .dataframe tbody tr th:only-of-type {\n",
       "        vertical-align: middle;\n",
       "    }\n",
       "\n",
       "    .dataframe tbody tr th {\n",
       "        vertical-align: top;\n",
       "    }\n",
       "\n",
       "    .dataframe thead th {\n",
       "        text-align: right;\n",
       "    }\n",
       "</style>\n",
       "<table border=\"1\" class=\"dataframe\">\n",
       "  <thead>\n",
       "    <tr style=\"text-align: right;\">\n",
       "      <th></th>\n",
       "      <th>lat</th>\n",
       "      <th>lon</th>\n",
       "      <th>clouds</th>\n",
       "      <th>dt</th>\n",
       "      <th>rain</th>\n",
       "      <th>month</th>\n",
       "      <th>year</th>\n",
       "      <th>weekdays</th>\n",
       "      <th>Main_temp</th>\n",
       "      <th>Temp_min</th>\n",
       "      <th>Temp_max</th>\n",
       "      <th>Feels_like</th>\n",
       "      <th>Pressure</th>\n",
       "      <th>Humidity</th>\n",
       "      <th>Wind_Speed</th>\n",
       "      <th>Wind_Deg</th>\n",
       "      <th>id</th>\n",
       "      <th>Main</th>\n",
       "      <th>Description</th>\n",
       "      <th>icon</th>\n",
       "    </tr>\n",
       "  </thead>\n",
       "  <tbody>\n",
       "    <tr>\n",
       "      <th>0</th>\n",
       "      <td>25.07501</td>\n",
       "      <td>55.188761</td>\n",
       "      <td>1</td>\n",
       "      <td>2018-01-01 01:00:00</td>\n",
       "      <td>0</td>\n",
       "      <td>1</td>\n",
       "      <td>2018</td>\n",
       "      <td>0</td>\n",
       "      <td>'temp': 14.99</td>\n",
       "      <td>'temp_min': 13</td>\n",
       "      <td>'temp_max': 18</td>\n",
       "      <td>'feels_like': 13.7</td>\n",
       "      <td>'pressure': 1015</td>\n",
       "      <td>'humidity': 87</td>\n",
       "      <td>'speed': 3.1</td>\n",
       "      <td>'deg': 150</td>\n",
       "      <td>'id': 800</td>\n",
       "      <td>'main': 'Clear'</td>\n",
       "      <td>'description': 'sky is clear'</td>\n",
       "      <td>'01n'</td>\n",
       "    </tr>\n",
       "  </tbody>\n",
       "</table>\n",
       "</div>"
      ],
      "text/plain": [
       "        lat        lon clouds                  dt  rain  month  year  \\\n",
       "0  25.07501  55.188761      1 2018-01-01 01:00:00     0      1  2018   \n",
       "\n",
       "   weekdays      Main_temp        Temp_min        Temp_max  \\\n",
       "0         0  'temp': 14.99  'temp_min': 13  'temp_max': 18   \n",
       "\n",
       "           Feels_like          Pressure        Humidity    Wind_Speed  \\\n",
       "0  'feels_like': 13.7  'pressure': 1015  'humidity': 87  'speed': 3.1   \n",
       "\n",
       "     Wind_Deg         id             Main                    Description  \\\n",
       "0  'deg': 150  'id': 800  'main': 'Clear'  'description': 'sky is clear'   \n",
       "\n",
       "     icon  \n",
       "0   '01n'  "
      ]
     },
     "execution_count": 123,
     "metadata": {},
     "output_type": "execute_result"
    }
   ],
   "source": [
    "data.head(1)"
   ]
  },
  {
   "cell_type": "code",
   "execution_count": 124,
   "metadata": {},
   "outputs": [],
   "source": [
    "cols1 = ['Main_temp',\n",
    "      'Feels_like',\n",
    "      'Wind_Speed']\n",
    "cols2 = ['Temp_min','Temp_max','Pressure','Humidity','Wind_Deg','id']\n",
    "   \n",
    "for column in cols1:\n",
    "    data[column] = data[column].str.extract(r'(\\d+\\.\\d+)',expand=False)\n",
    "for column in cols2: \n",
    "    data[column] = data[column].str.extract(r'(\\d+)',expand=False)"
   ]
  },
  {
   "cell_type": "code",
   "execution_count": 125,
   "metadata": {},
   "outputs": [
    {
     "data": {
      "text/html": [
       "<div>\n",
       "<style scoped>\n",
       "    .dataframe tbody tr th:only-of-type {\n",
       "        vertical-align: middle;\n",
       "    }\n",
       "\n",
       "    .dataframe tbody tr th {\n",
       "        vertical-align: top;\n",
       "    }\n",
       "\n",
       "    .dataframe thead th {\n",
       "        text-align: right;\n",
       "    }\n",
       "</style>\n",
       "<table border=\"1\" class=\"dataframe\">\n",
       "  <thead>\n",
       "    <tr style=\"text-align: right;\">\n",
       "      <th></th>\n",
       "      <th>lat</th>\n",
       "      <th>lon</th>\n",
       "      <th>clouds</th>\n",
       "      <th>dt</th>\n",
       "      <th>rain</th>\n",
       "      <th>month</th>\n",
       "      <th>year</th>\n",
       "      <th>weekdays</th>\n",
       "      <th>Main_temp</th>\n",
       "      <th>Temp_min</th>\n",
       "      <th>Temp_max</th>\n",
       "      <th>Feels_like</th>\n",
       "      <th>Pressure</th>\n",
       "      <th>Humidity</th>\n",
       "      <th>Wind_Speed</th>\n",
       "      <th>Wind_Deg</th>\n",
       "      <th>id</th>\n",
       "      <th>Main</th>\n",
       "      <th>Description</th>\n",
       "      <th>icon</th>\n",
       "    </tr>\n",
       "  </thead>\n",
       "  <tbody>\n",
       "    <tr>\n",
       "      <th>0</th>\n",
       "      <td>25.07501</td>\n",
       "      <td>55.188761</td>\n",
       "      <td>1</td>\n",
       "      <td>2018-01-01 01:00:00</td>\n",
       "      <td>0</td>\n",
       "      <td>1</td>\n",
       "      <td>2018</td>\n",
       "      <td>0</td>\n",
       "      <td>14.99</td>\n",
       "      <td>13</td>\n",
       "      <td>18</td>\n",
       "      <td>13.7</td>\n",
       "      <td>1015</td>\n",
       "      <td>87</td>\n",
       "      <td>3.1</td>\n",
       "      <td>150</td>\n",
       "      <td>800</td>\n",
       "      <td>'main': 'Clear'</td>\n",
       "      <td>'description': 'sky is clear'</td>\n",
       "      <td>'01n'</td>\n",
       "    </tr>\n",
       "    <tr>\n",
       "      <th>1</th>\n",
       "      <td>25.07501</td>\n",
       "      <td>55.188761</td>\n",
       "      <td>1</td>\n",
       "      <td>2018-01-01 02:00:00</td>\n",
       "      <td>0</td>\n",
       "      <td>1</td>\n",
       "      <td>2018</td>\n",
       "      <td>0</td>\n",
       "      <td>14.63</td>\n",
       "      <td>13</td>\n",
       "      <td>17</td>\n",
       "      <td>13.91</td>\n",
       "      <td>1015</td>\n",
       "      <td>93</td>\n",
       "      <td>2.6</td>\n",
       "      <td>150</td>\n",
       "      <td>800</td>\n",
       "      <td>'main': 'Clear'</td>\n",
       "      <td>'description': 'sky is clear'</td>\n",
       "      <td>'01n'</td>\n",
       "    </tr>\n",
       "  </tbody>\n",
       "</table>\n",
       "</div>"
      ],
      "text/plain": [
       "        lat        lon clouds                  dt  rain  month  year  \\\n",
       "0  25.07501  55.188761      1 2018-01-01 01:00:00     0      1  2018   \n",
       "1  25.07501  55.188761      1 2018-01-01 02:00:00     0      1  2018   \n",
       "\n",
       "   weekdays Main_temp Temp_min Temp_max Feels_like Pressure Humidity  \\\n",
       "0         0     14.99       13       18       13.7     1015       87   \n",
       "1         0     14.63       13       17      13.91     1015       93   \n",
       "\n",
       "  Wind_Speed Wind_Deg   id             Main                    Description  \\\n",
       "0        3.1      150  800  'main': 'Clear'  'description': 'sky is clear'   \n",
       "1        2.6      150  800  'main': 'Clear'  'description': 'sky is clear'   \n",
       "\n",
       "     icon  \n",
       "0   '01n'  \n",
       "1   '01n'  "
      ]
     },
     "execution_count": 125,
     "metadata": {},
     "output_type": "execute_result"
    }
   ],
   "source": [
    "data.head(2)"
   ]
  },
  {
   "cell_type": "code",
   "execution_count": 126,
   "metadata": {},
   "outputs": [
    {
     "data": {
      "text/plain": [
       "lat              0\n",
       "lon              0\n",
       "clouds           0\n",
       "dt               0\n",
       "rain             0\n",
       "month            0\n",
       "year             0\n",
       "weekdays         0\n",
       "Main_temp      263\n",
       "Temp_min         0\n",
       "Temp_max         0\n",
       "Feels_like     191\n",
       "Pressure         0\n",
       "Humidity         0\n",
       "Wind_Speed     839\n",
       "Wind_Deg         0\n",
       "id               0\n",
       "Main             0\n",
       "Description      0\n",
       "icon             0\n",
       "dtype: int64"
      ]
     },
     "execution_count": 126,
     "metadata": {},
     "output_type": "execute_result"
    }
   ],
   "source": [
    "data.isnull().sum()"
   ]
  },
  {
   "cell_type": "code",
   "execution_count": 127,
   "metadata": {},
   "outputs": [],
   "source": [
    "data['Main_temp'].fillna(0,inplace=True)"
   ]
  },
  {
   "cell_type": "code",
   "execution_count": 128,
   "metadata": {},
   "outputs": [],
   "source": [
    "def temp_aver(temp):\n",
    "    temp_min = temp[1]\n",
    "    temp_max = temp[2]\n",
    "    main_temp = temp[0]\n",
    "    if temp_min ==0:\n",
    "        return (temp_min + temp_max)/2\n",
    "    else:\n",
    "        return (temp_min + temp_max+main_temp)/3"
   ]
  },
  {
   "cell_type": "code",
   "execution_count": 129,
   "metadata": {},
   "outputs": [],
   "source": [
    "data[['Main_temp','Temp_min','Temp_max']] = data[['Main_temp','Temp_min','Temp_max']].astype('float')\n",
    "data['temp_average'] =data[['Main_temp','Temp_min','Temp_max']].apply(temp_aver,axis=1)"
   ]
  },
  {
   "cell_type": "code",
   "execution_count": 130,
   "metadata": {},
   "outputs": [],
   "source": [
    "data.drop(['Main_temp','Temp_min','Temp_max','dt','Description'],axis=1,inplace=True)"
   ]
  },
  {
   "cell_type": "code",
   "execution_count": 131,
   "metadata": {},
   "outputs": [
    {
     "data": {
      "text/html": [
       "<div>\n",
       "<style scoped>\n",
       "    .dataframe tbody tr th:only-of-type {\n",
       "        vertical-align: middle;\n",
       "    }\n",
       "\n",
       "    .dataframe tbody tr th {\n",
       "        vertical-align: top;\n",
       "    }\n",
       "\n",
       "    .dataframe thead th {\n",
       "        text-align: right;\n",
       "    }\n",
       "</style>\n",
       "<table border=\"1\" class=\"dataframe\">\n",
       "  <thead>\n",
       "    <tr style=\"text-align: right;\">\n",
       "      <th></th>\n",
       "      <th>lat</th>\n",
       "      <th>lon</th>\n",
       "      <th>clouds</th>\n",
       "      <th>rain</th>\n",
       "      <th>month</th>\n",
       "      <th>year</th>\n",
       "      <th>weekdays</th>\n",
       "      <th>Feels_like</th>\n",
       "      <th>Pressure</th>\n",
       "      <th>Humidity</th>\n",
       "      <th>Wind_Speed</th>\n",
       "      <th>Wind_Deg</th>\n",
       "      <th>id</th>\n",
       "      <th>Main</th>\n",
       "      <th>icon</th>\n",
       "      <th>temp_average</th>\n",
       "    </tr>\n",
       "  </thead>\n",
       "  <tbody>\n",
       "    <tr>\n",
       "      <th>0</th>\n",
       "      <td>25.07501</td>\n",
       "      <td>55.188761</td>\n",
       "      <td>1</td>\n",
       "      <td>0</td>\n",
       "      <td>1</td>\n",
       "      <td>2018</td>\n",
       "      <td>0</td>\n",
       "      <td>13.7</td>\n",
       "      <td>1015</td>\n",
       "      <td>87</td>\n",
       "      <td>3.1</td>\n",
       "      <td>150</td>\n",
       "      <td>800</td>\n",
       "      <td>'main': 'Clear'</td>\n",
       "      <td>'01n'</td>\n",
       "      <td>15.330000</td>\n",
       "    </tr>\n",
       "    <tr>\n",
       "      <th>1</th>\n",
       "      <td>25.07501</td>\n",
       "      <td>55.188761</td>\n",
       "      <td>1</td>\n",
       "      <td>0</td>\n",
       "      <td>1</td>\n",
       "      <td>2018</td>\n",
       "      <td>0</td>\n",
       "      <td>13.91</td>\n",
       "      <td>1015</td>\n",
       "      <td>93</td>\n",
       "      <td>2.6</td>\n",
       "      <td>150</td>\n",
       "      <td>800</td>\n",
       "      <td>'main': 'Clear'</td>\n",
       "      <td>'01n'</td>\n",
       "      <td>14.876667</td>\n",
       "    </tr>\n",
       "  </tbody>\n",
       "</table>\n",
       "</div>"
      ],
      "text/plain": [
       "        lat        lon clouds  rain  month  year  weekdays Feels_like  \\\n",
       "0  25.07501  55.188761      1     0      1  2018         0       13.7   \n",
       "1  25.07501  55.188761      1     0      1  2018         0      13.91   \n",
       "\n",
       "  Pressure Humidity Wind_Speed Wind_Deg   id             Main    icon  \\\n",
       "0     1015       87        3.1      150  800  'main': 'Clear'   '01n'   \n",
       "1     1015       93        2.6      150  800  'main': 'Clear'   '01n'   \n",
       "\n",
       "   temp_average  \n",
       "0     15.330000  \n",
       "1     14.876667  "
      ]
     },
     "execution_count": 131,
     "metadata": {},
     "output_type": "execute_result"
    }
   ],
   "source": [
    "data.head(2)"
   ]
  },
  {
   "cell_type": "code",
   "execution_count": null,
   "metadata": {},
   "outputs": [],
   "source": []
  },
  {
   "cell_type": "code",
   "execution_count": 132,
   "metadata": {},
   "outputs": [],
   "source": [
    "def clean_main(text):\n",
    "    \"\"\"\n",
    "    Removing the special characters to clean the text\n",
    "    \n",
    "    Args: \n",
    "        text : text to be cleaned \n",
    "    \n",
    "    Return:\n",
    "           A clean data is given as output\n",
    "    \"\"\"\n",
    "    text = re.sub(r\"[^a-zA-Z0-9 ]\", \"\", text.lower())\n",
    "    return text.split(\" \")[-1]   "
   ]
  },
  {
   "cell_type": "code",
   "execution_count": 133,
   "metadata": {},
   "outputs": [],
   "source": [
    "data['Main'] = data.Main.apply(clean_main)\n",
    "data['icon'] = data['icon'].apply(clean_main)"
   ]
  },
  {
   "cell_type": "code",
   "execution_count": 134,
   "metadata": {},
   "outputs": [
    {
     "data": {
      "text/html": [
       "<div>\n",
       "<style scoped>\n",
       "    .dataframe tbody tr th:only-of-type {\n",
       "        vertical-align: middle;\n",
       "    }\n",
       "\n",
       "    .dataframe tbody tr th {\n",
       "        vertical-align: top;\n",
       "    }\n",
       "\n",
       "    .dataframe thead th {\n",
       "        text-align: right;\n",
       "    }\n",
       "</style>\n",
       "<table border=\"1\" class=\"dataframe\">\n",
       "  <thead>\n",
       "    <tr style=\"text-align: right;\">\n",
       "      <th></th>\n",
       "      <th>lat</th>\n",
       "      <th>lon</th>\n",
       "      <th>clouds</th>\n",
       "      <th>rain</th>\n",
       "      <th>month</th>\n",
       "      <th>year</th>\n",
       "      <th>weekdays</th>\n",
       "      <th>Feels_like</th>\n",
       "      <th>Pressure</th>\n",
       "      <th>Humidity</th>\n",
       "      <th>Wind_Speed</th>\n",
       "      <th>Wind_Deg</th>\n",
       "      <th>id</th>\n",
       "      <th>Main</th>\n",
       "      <th>icon</th>\n",
       "      <th>temp_average</th>\n",
       "    </tr>\n",
       "  </thead>\n",
       "  <tbody>\n",
       "    <tr>\n",
       "      <th>0</th>\n",
       "      <td>25.07501</td>\n",
       "      <td>55.188761</td>\n",
       "      <td>1</td>\n",
       "      <td>0</td>\n",
       "      <td>1</td>\n",
       "      <td>2018</td>\n",
       "      <td>0</td>\n",
       "      <td>13.7</td>\n",
       "      <td>1015</td>\n",
       "      <td>87</td>\n",
       "      <td>3.1</td>\n",
       "      <td>150</td>\n",
       "      <td>800</td>\n",
       "      <td>clear</td>\n",
       "      <td>01n</td>\n",
       "      <td>15.330000</td>\n",
       "    </tr>\n",
       "    <tr>\n",
       "      <th>1</th>\n",
       "      <td>25.07501</td>\n",
       "      <td>55.188761</td>\n",
       "      <td>1</td>\n",
       "      <td>0</td>\n",
       "      <td>1</td>\n",
       "      <td>2018</td>\n",
       "      <td>0</td>\n",
       "      <td>13.91</td>\n",
       "      <td>1015</td>\n",
       "      <td>93</td>\n",
       "      <td>2.6</td>\n",
       "      <td>150</td>\n",
       "      <td>800</td>\n",
       "      <td>clear</td>\n",
       "      <td>01n</td>\n",
       "      <td>14.876667</td>\n",
       "    </tr>\n",
       "    <tr>\n",
       "      <th>2</th>\n",
       "      <td>25.07501</td>\n",
       "      <td>55.188761</td>\n",
       "      <td>1</td>\n",
       "      <td>0</td>\n",
       "      <td>1</td>\n",
       "      <td>2018</td>\n",
       "      <td>0</td>\n",
       "      <td>13.89</td>\n",
       "      <td>1016</td>\n",
       "      <td>93</td>\n",
       "      <td>1.5</td>\n",
       "      <td>150</td>\n",
       "      <td>800</td>\n",
       "      <td>clear</td>\n",
       "      <td>01n</td>\n",
       "      <td>14.343333</td>\n",
       "    </tr>\n",
       "    <tr>\n",
       "      <th>3</th>\n",
       "      <td>25.07501</td>\n",
       "      <td>55.188761</td>\n",
       "      <td>1</td>\n",
       "      <td>0</td>\n",
       "      <td>1</td>\n",
       "      <td>2018</td>\n",
       "      <td>0</td>\n",
       "      <td>13.14</td>\n",
       "      <td>1016</td>\n",
       "      <td>93</td>\n",
       "      <td>2.1</td>\n",
       "      <td>180</td>\n",
       "      <td>701</td>\n",
       "      <td>mist</td>\n",
       "      <td>50n</td>\n",
       "      <td>14.260000</td>\n",
       "    </tr>\n",
       "    <tr>\n",
       "      <th>4</th>\n",
       "      <td>25.07501</td>\n",
       "      <td>55.188761</td>\n",
       "      <td>1</td>\n",
       "      <td>0</td>\n",
       "      <td>1</td>\n",
       "      <td>2018</td>\n",
       "      <td>0</td>\n",
       "      <td>13.45</td>\n",
       "      <td>1017</td>\n",
       "      <td>93</td>\n",
       "      <td>2.6</td>\n",
       "      <td>160</td>\n",
       "      <td>701</td>\n",
       "      <td>mist</td>\n",
       "      <td>50d</td>\n",
       "      <td>14.760000</td>\n",
       "    </tr>\n",
       "  </tbody>\n",
       "</table>\n",
       "</div>"
      ],
      "text/plain": [
       "        lat        lon clouds  rain  month  year  weekdays Feels_like  \\\n",
       "0  25.07501  55.188761      1     0      1  2018         0       13.7   \n",
       "1  25.07501  55.188761      1     0      1  2018         0      13.91   \n",
       "2  25.07501  55.188761      1     0      1  2018         0      13.89   \n",
       "3  25.07501  55.188761      1     0      1  2018         0      13.14   \n",
       "4  25.07501  55.188761      1     0      1  2018         0      13.45   \n",
       "\n",
       "  Pressure Humidity Wind_Speed Wind_Deg   id   Main icon  temp_average  \n",
       "0     1015       87        3.1      150  800  clear  01n     15.330000  \n",
       "1     1015       93        2.6      150  800  clear  01n     14.876667  \n",
       "2     1016       93        1.5      150  800  clear  01n     14.343333  \n",
       "3     1016       93        2.1      180  701   mist  50n     14.260000  \n",
       "4     1017       93        2.6      160  701   mist  50d     14.760000  "
      ]
     },
     "execution_count": 134,
     "metadata": {},
     "output_type": "execute_result"
    }
   ],
   "source": [
    "data.head()"
   ]
  },
  {
   "cell_type": "markdown",
   "metadata": {},
   "source": [
    "Given the code description given <a href='https://openweathermap.org/weather-conditions'>here</a> for icon was mapped to extract the data to create new features"
   ]
  },
  {
   "cell_type": "code",
   "execution_count": 135,
   "metadata": {},
   "outputs": [
    {
     "data": {
      "text/plain": [
       "array(['01n', '50n', '50d', '01d', '02n', '04d', '03d', '02d', '03n',\n",
       "       '04n', '10d', '10n', '09d', '11d', '11n', '09n'], dtype=object)"
      ]
     },
     "execution_count": 135,
     "metadata": {},
     "output_type": "execute_result"
    }
   ],
   "source": [
    "data.icon.unique()"
   ]
  },
  {
   "cell_type": "code",
   "execution_count": 136,
   "metadata": {},
   "outputs": [],
   "source": [
    "icon_map = {'01n' : \"Clear Sky\", '50n':\"Mist\", '50d':\"Mist\", '01d':\"Clear Sky\", \n",
    "            '02n':\"Few Clouds\", '04d':\"Broken Clouds\", '03d':\"Scatter Clouds\",\n",
    "            '02d':'Few Clouds', '03n':\"Scatter Clouds\",'04n':\"Broken Clouds\", \n",
    "            '10d':\"rain\", '10n':\"rain\", '09d':\"Shower rain\",'13d':'snow','13n':'snow',\n",
    "            '11d':\"Thunderstorm\", '11n':\"Thunderstorm\", '09n':\"Shower rain\"}\n",
    "data['period'] = data['icon'].apply(lambda x:'Night' if 'n' in x else 'Day')\n",
    "data['icon'] = data['icon'].map(icon_map)"
   ]
  },
  {
   "cell_type": "code",
   "execution_count": 137,
   "metadata": {},
   "outputs": [
    {
     "data": {
      "text/html": [
       "<div>\n",
       "<style scoped>\n",
       "    .dataframe tbody tr th:only-of-type {\n",
       "        vertical-align: middle;\n",
       "    }\n",
       "\n",
       "    .dataframe tbody tr th {\n",
       "        vertical-align: top;\n",
       "    }\n",
       "\n",
       "    .dataframe thead th {\n",
       "        text-align: right;\n",
       "    }\n",
       "</style>\n",
       "<table border=\"1\" class=\"dataframe\">\n",
       "  <thead>\n",
       "    <tr style=\"text-align: right;\">\n",
       "      <th></th>\n",
       "      <th>lat</th>\n",
       "      <th>lon</th>\n",
       "      <th>clouds</th>\n",
       "      <th>rain</th>\n",
       "      <th>month</th>\n",
       "      <th>year</th>\n",
       "      <th>weekdays</th>\n",
       "      <th>Feels_like</th>\n",
       "      <th>Pressure</th>\n",
       "      <th>Humidity</th>\n",
       "      <th>Wind_Speed</th>\n",
       "      <th>Wind_Deg</th>\n",
       "      <th>id</th>\n",
       "      <th>Main</th>\n",
       "      <th>icon</th>\n",
       "      <th>temp_average</th>\n",
       "      <th>period</th>\n",
       "    </tr>\n",
       "  </thead>\n",
       "  <tbody>\n",
       "    <tr>\n",
       "      <th>0</th>\n",
       "      <td>25.07501</td>\n",
       "      <td>55.188761</td>\n",
       "      <td>1</td>\n",
       "      <td>0</td>\n",
       "      <td>1</td>\n",
       "      <td>2018</td>\n",
       "      <td>0</td>\n",
       "      <td>13.7</td>\n",
       "      <td>1015</td>\n",
       "      <td>87</td>\n",
       "      <td>3.1</td>\n",
       "      <td>150</td>\n",
       "      <td>800</td>\n",
       "      <td>clear</td>\n",
       "      <td>Clear Sky</td>\n",
       "      <td>15.330000</td>\n",
       "      <td>Night</td>\n",
       "    </tr>\n",
       "    <tr>\n",
       "      <th>1</th>\n",
       "      <td>25.07501</td>\n",
       "      <td>55.188761</td>\n",
       "      <td>1</td>\n",
       "      <td>0</td>\n",
       "      <td>1</td>\n",
       "      <td>2018</td>\n",
       "      <td>0</td>\n",
       "      <td>13.91</td>\n",
       "      <td>1015</td>\n",
       "      <td>93</td>\n",
       "      <td>2.6</td>\n",
       "      <td>150</td>\n",
       "      <td>800</td>\n",
       "      <td>clear</td>\n",
       "      <td>Clear Sky</td>\n",
       "      <td>14.876667</td>\n",
       "      <td>Night</td>\n",
       "    </tr>\n",
       "    <tr>\n",
       "      <th>2</th>\n",
       "      <td>25.07501</td>\n",
       "      <td>55.188761</td>\n",
       "      <td>1</td>\n",
       "      <td>0</td>\n",
       "      <td>1</td>\n",
       "      <td>2018</td>\n",
       "      <td>0</td>\n",
       "      <td>13.89</td>\n",
       "      <td>1016</td>\n",
       "      <td>93</td>\n",
       "      <td>1.5</td>\n",
       "      <td>150</td>\n",
       "      <td>800</td>\n",
       "      <td>clear</td>\n",
       "      <td>Clear Sky</td>\n",
       "      <td>14.343333</td>\n",
       "      <td>Night</td>\n",
       "    </tr>\n",
       "    <tr>\n",
       "      <th>3</th>\n",
       "      <td>25.07501</td>\n",
       "      <td>55.188761</td>\n",
       "      <td>1</td>\n",
       "      <td>0</td>\n",
       "      <td>1</td>\n",
       "      <td>2018</td>\n",
       "      <td>0</td>\n",
       "      <td>13.14</td>\n",
       "      <td>1016</td>\n",
       "      <td>93</td>\n",
       "      <td>2.1</td>\n",
       "      <td>180</td>\n",
       "      <td>701</td>\n",
       "      <td>mist</td>\n",
       "      <td>Mist</td>\n",
       "      <td>14.260000</td>\n",
       "      <td>Night</td>\n",
       "    </tr>\n",
       "    <tr>\n",
       "      <th>4</th>\n",
       "      <td>25.07501</td>\n",
       "      <td>55.188761</td>\n",
       "      <td>1</td>\n",
       "      <td>0</td>\n",
       "      <td>1</td>\n",
       "      <td>2018</td>\n",
       "      <td>0</td>\n",
       "      <td>13.45</td>\n",
       "      <td>1017</td>\n",
       "      <td>93</td>\n",
       "      <td>2.6</td>\n",
       "      <td>160</td>\n",
       "      <td>701</td>\n",
       "      <td>mist</td>\n",
       "      <td>Mist</td>\n",
       "      <td>14.760000</td>\n",
       "      <td>Day</td>\n",
       "    </tr>\n",
       "  </tbody>\n",
       "</table>\n",
       "</div>"
      ],
      "text/plain": [
       "        lat        lon clouds  rain  month  year  weekdays Feels_like  \\\n",
       "0  25.07501  55.188761      1     0      1  2018         0       13.7   \n",
       "1  25.07501  55.188761      1     0      1  2018         0      13.91   \n",
       "2  25.07501  55.188761      1     0      1  2018         0      13.89   \n",
       "3  25.07501  55.188761      1     0      1  2018         0      13.14   \n",
       "4  25.07501  55.188761      1     0      1  2018         0      13.45   \n",
       "\n",
       "  Pressure Humidity Wind_Speed Wind_Deg   id   Main       icon  temp_average  \\\n",
       "0     1015       87        3.1      150  800  clear  Clear Sky     15.330000   \n",
       "1     1015       93        2.6      150  800  clear  Clear Sky     14.876667   \n",
       "2     1016       93        1.5      150  800  clear  Clear Sky     14.343333   \n",
       "3     1016       93        2.1      180  701   mist       Mist     14.260000   \n",
       "4     1017       93        2.6      160  701   mist       Mist     14.760000   \n",
       "\n",
       "  period  \n",
       "0  Night  \n",
       "1  Night  \n",
       "2  Night  \n",
       "3  Night  \n",
       "4    Day  "
      ]
     },
     "execution_count": 137,
     "metadata": {},
     "output_type": "execute_result"
    }
   ],
   "source": [
    "data.head()"
   ]
  },
  {
   "cell_type": "markdown",
   "metadata": {},
   "source": [
    "+ Checking the `icon` feature and `Main` feature we see that the weather state is clearly captured which implies that the `icon` & `id` feature is redundant and can be dropped"
   ]
  },
  {
   "cell_type": "code",
   "execution_count": 138,
   "metadata": {},
   "outputs": [],
   "source": [
    "data.drop(['icon','id'],axis=1,inplace=True)"
   ]
  },
  {
   "cell_type": "code",
   "execution_count": 139,
   "metadata": {},
   "outputs": [
    {
     "data": {
      "text/html": [
       "<div>\n",
       "<style scoped>\n",
       "    .dataframe tbody tr th:only-of-type {\n",
       "        vertical-align: middle;\n",
       "    }\n",
       "\n",
       "    .dataframe tbody tr th {\n",
       "        vertical-align: top;\n",
       "    }\n",
       "\n",
       "    .dataframe thead th {\n",
       "        text-align: right;\n",
       "    }\n",
       "</style>\n",
       "<table border=\"1\" class=\"dataframe\">\n",
       "  <thead>\n",
       "    <tr style=\"text-align: right;\">\n",
       "      <th></th>\n",
       "      <th>lat</th>\n",
       "      <th>lon</th>\n",
       "      <th>clouds</th>\n",
       "      <th>rain</th>\n",
       "      <th>month</th>\n",
       "      <th>year</th>\n",
       "      <th>weekdays</th>\n",
       "      <th>Feels_like</th>\n",
       "      <th>Pressure</th>\n",
       "      <th>Humidity</th>\n",
       "      <th>Wind_Speed</th>\n",
       "      <th>Wind_Deg</th>\n",
       "      <th>Main</th>\n",
       "      <th>temp_average</th>\n",
       "      <th>period</th>\n",
       "    </tr>\n",
       "  </thead>\n",
       "  <tbody>\n",
       "    <tr>\n",
       "      <th>0</th>\n",
       "      <td>25.07501</td>\n",
       "      <td>55.188761</td>\n",
       "      <td>1</td>\n",
       "      <td>0</td>\n",
       "      <td>1</td>\n",
       "      <td>2018</td>\n",
       "      <td>0</td>\n",
       "      <td>13.7</td>\n",
       "      <td>1015</td>\n",
       "      <td>87</td>\n",
       "      <td>3.1</td>\n",
       "      <td>150</td>\n",
       "      <td>clear</td>\n",
       "      <td>15.330000</td>\n",
       "      <td>Night</td>\n",
       "    </tr>\n",
       "    <tr>\n",
       "      <th>1</th>\n",
       "      <td>25.07501</td>\n",
       "      <td>55.188761</td>\n",
       "      <td>1</td>\n",
       "      <td>0</td>\n",
       "      <td>1</td>\n",
       "      <td>2018</td>\n",
       "      <td>0</td>\n",
       "      <td>13.91</td>\n",
       "      <td>1015</td>\n",
       "      <td>93</td>\n",
       "      <td>2.6</td>\n",
       "      <td>150</td>\n",
       "      <td>clear</td>\n",
       "      <td>14.876667</td>\n",
       "      <td>Night</td>\n",
       "    </tr>\n",
       "  </tbody>\n",
       "</table>\n",
       "</div>"
      ],
      "text/plain": [
       "        lat        lon clouds  rain  month  year  weekdays Feels_like  \\\n",
       "0  25.07501  55.188761      1     0      1  2018         0       13.7   \n",
       "1  25.07501  55.188761      1     0      1  2018         0      13.91   \n",
       "\n",
       "  Pressure Humidity Wind_Speed Wind_Deg   Main  temp_average period  \n",
       "0     1015       87        3.1      150  clear     15.330000  Night  \n",
       "1     1015       93        2.6      150  clear     14.876667  Night  "
      ]
     },
     "execution_count": 139,
     "metadata": {},
     "output_type": "execute_result"
    }
   ],
   "source": [
    "data.head(2)"
   ]
  },
  {
   "cell_type": "code",
   "execution_count": 140,
   "metadata": {},
   "outputs": [],
   "source": [
    "#Creating the id feature to be used to merge the weather data and transport data\n",
    "month_map = {1: 'Jan', 2: 'Feb', 3: 'Mar', 4: 'Apr',\n",
    "             5: 'May',6: 'Jun',7: 'Jul', 8: 'Aug',\n",
    "             9: 'Sep', 10: 'Oct', 11: 'Nov', 12: 'Dec'}\n",
    "\n",
    "data['month_name'] = data['month'].map(month_map)"
   ]
  },
  {
   "cell_type": "code",
   "execution_count": 141,
   "metadata": {},
   "outputs": [],
   "source": [
    "data['id'] = data[['year','month_name']].apply(create_id,axis=1)"
   ]
  },
  {
   "cell_type": "code",
   "execution_count": 142,
   "metadata": {},
   "outputs": [
    {
     "data": {
      "text/html": [
       "<div>\n",
       "<style scoped>\n",
       "    .dataframe tbody tr th:only-of-type {\n",
       "        vertical-align: middle;\n",
       "    }\n",
       "\n",
       "    .dataframe tbody tr th {\n",
       "        vertical-align: top;\n",
       "    }\n",
       "\n",
       "    .dataframe thead th {\n",
       "        text-align: right;\n",
       "    }\n",
       "</style>\n",
       "<table border=\"1\" class=\"dataframe\">\n",
       "  <thead>\n",
       "    <tr style=\"text-align: right;\">\n",
       "      <th></th>\n",
       "      <th>lat</th>\n",
       "      <th>lon</th>\n",
       "      <th>clouds</th>\n",
       "      <th>rain</th>\n",
       "      <th>month</th>\n",
       "      <th>year</th>\n",
       "      <th>weekdays</th>\n",
       "      <th>Feels_like</th>\n",
       "      <th>Pressure</th>\n",
       "      <th>Humidity</th>\n",
       "      <th>Wind_Speed</th>\n",
       "      <th>Wind_Deg</th>\n",
       "      <th>Main</th>\n",
       "      <th>temp_average</th>\n",
       "      <th>period</th>\n",
       "      <th>month_name</th>\n",
       "      <th>id</th>\n",
       "    </tr>\n",
       "  </thead>\n",
       "  <tbody>\n",
       "    <tr>\n",
       "      <th>0</th>\n",
       "      <td>25.07501</td>\n",
       "      <td>55.188761</td>\n",
       "      <td>1</td>\n",
       "      <td>0</td>\n",
       "      <td>1</td>\n",
       "      <td>2018</td>\n",
       "      <td>0</td>\n",
       "      <td>13.7</td>\n",
       "      <td>1015</td>\n",
       "      <td>87</td>\n",
       "      <td>3.1</td>\n",
       "      <td>150</td>\n",
       "      <td>clear</td>\n",
       "      <td>15.330000</td>\n",
       "      <td>Night</td>\n",
       "      <td>Jan</td>\n",
       "      <td>1</td>\n",
       "    </tr>\n",
       "    <tr>\n",
       "      <th>1</th>\n",
       "      <td>25.07501</td>\n",
       "      <td>55.188761</td>\n",
       "      <td>1</td>\n",
       "      <td>0</td>\n",
       "      <td>1</td>\n",
       "      <td>2018</td>\n",
       "      <td>0</td>\n",
       "      <td>13.91</td>\n",
       "      <td>1015</td>\n",
       "      <td>93</td>\n",
       "      <td>2.6</td>\n",
       "      <td>150</td>\n",
       "      <td>clear</td>\n",
       "      <td>14.876667</td>\n",
       "      <td>Night</td>\n",
       "      <td>Jan</td>\n",
       "      <td>1</td>\n",
       "    </tr>\n",
       "    <tr>\n",
       "      <th>2</th>\n",
       "      <td>25.07501</td>\n",
       "      <td>55.188761</td>\n",
       "      <td>1</td>\n",
       "      <td>0</td>\n",
       "      <td>1</td>\n",
       "      <td>2018</td>\n",
       "      <td>0</td>\n",
       "      <td>13.89</td>\n",
       "      <td>1016</td>\n",
       "      <td>93</td>\n",
       "      <td>1.5</td>\n",
       "      <td>150</td>\n",
       "      <td>clear</td>\n",
       "      <td>14.343333</td>\n",
       "      <td>Night</td>\n",
       "      <td>Jan</td>\n",
       "      <td>1</td>\n",
       "    </tr>\n",
       "    <tr>\n",
       "      <th>3</th>\n",
       "      <td>25.07501</td>\n",
       "      <td>55.188761</td>\n",
       "      <td>1</td>\n",
       "      <td>0</td>\n",
       "      <td>1</td>\n",
       "      <td>2018</td>\n",
       "      <td>0</td>\n",
       "      <td>13.14</td>\n",
       "      <td>1016</td>\n",
       "      <td>93</td>\n",
       "      <td>2.1</td>\n",
       "      <td>180</td>\n",
       "      <td>mist</td>\n",
       "      <td>14.260000</td>\n",
       "      <td>Night</td>\n",
       "      <td>Jan</td>\n",
       "      <td>1</td>\n",
       "    </tr>\n",
       "    <tr>\n",
       "      <th>4</th>\n",
       "      <td>25.07501</td>\n",
       "      <td>55.188761</td>\n",
       "      <td>1</td>\n",
       "      <td>0</td>\n",
       "      <td>1</td>\n",
       "      <td>2018</td>\n",
       "      <td>0</td>\n",
       "      <td>13.45</td>\n",
       "      <td>1017</td>\n",
       "      <td>93</td>\n",
       "      <td>2.6</td>\n",
       "      <td>160</td>\n",
       "      <td>mist</td>\n",
       "      <td>14.760000</td>\n",
       "      <td>Day</td>\n",
       "      <td>Jan</td>\n",
       "      <td>1</td>\n",
       "    </tr>\n",
       "  </tbody>\n",
       "</table>\n",
       "</div>"
      ],
      "text/plain": [
       "        lat        lon clouds  rain  month  year  weekdays Feels_like  \\\n",
       "0  25.07501  55.188761      1     0      1  2018         0       13.7   \n",
       "1  25.07501  55.188761      1     0      1  2018         0      13.91   \n",
       "2  25.07501  55.188761      1     0      1  2018         0      13.89   \n",
       "3  25.07501  55.188761      1     0      1  2018         0      13.14   \n",
       "4  25.07501  55.188761      1     0      1  2018         0      13.45   \n",
       "\n",
       "  Pressure Humidity Wind_Speed Wind_Deg   Main  temp_average period  \\\n",
       "0     1015       87        3.1      150  clear     15.330000  Night   \n",
       "1     1015       93        2.6      150  clear     14.876667  Night   \n",
       "2     1016       93        1.5      150  clear     14.343333  Night   \n",
       "3     1016       93        2.1      180   mist     14.260000  Night   \n",
       "4     1017       93        2.6      160   mist     14.760000    Day   \n",
       "\n",
       "  month_name  id  \n",
       "0        Jan   1  \n",
       "1        Jan   1  \n",
       "2        Jan   1  \n",
       "3        Jan   1  \n",
       "4        Jan   1  "
      ]
     },
     "execution_count": 142,
     "metadata": {},
     "output_type": "execute_result"
    }
   ],
   "source": [
    "data.head()"
   ]
  },
  {
   "cell_type": "markdown",
   "metadata": {},
   "source": [
    "+ Merging the transport data and the transport data using the `id` created"
   ]
  },
  {
   "cell_type": "code",
   "execution_count": 143,
   "metadata": {},
   "outputs": [],
   "source": [
    "data = pd.merge(data,transport,on='id',how='inner')"
   ]
  },
  {
   "cell_type": "code",
   "execution_count": 144,
   "metadata": {},
   "outputs": [
    {
     "data": {
      "text/html": [
       "<div>\n",
       "<style scoped>\n",
       "    .dataframe tbody tr th:only-of-type {\n",
       "        vertical-align: middle;\n",
       "    }\n",
       "\n",
       "    .dataframe tbody tr th {\n",
       "        vertical-align: top;\n",
       "    }\n",
       "\n",
       "    .dataframe thead th {\n",
       "        text-align: right;\n",
       "    }\n",
       "</style>\n",
       "<table border=\"1\" class=\"dataframe\">\n",
       "  <thead>\n",
       "    <tr style=\"text-align: right;\">\n",
       "      <th></th>\n",
       "      <th>lat</th>\n",
       "      <th>lon</th>\n",
       "      <th>clouds</th>\n",
       "      <th>rain</th>\n",
       "      <th>month_x</th>\n",
       "      <th>year_x</th>\n",
       "      <th>weekdays</th>\n",
       "      <th>Feels_like</th>\n",
       "      <th>Pressure</th>\n",
       "      <th>Humidity</th>\n",
       "      <th>...</th>\n",
       "      <th>Wind_Deg</th>\n",
       "      <th>Main</th>\n",
       "      <th>temp_average</th>\n",
       "      <th>period</th>\n",
       "      <th>month_name</th>\n",
       "      <th>id</th>\n",
       "      <th>year_y</th>\n",
       "      <th>month_y</th>\n",
       "      <th>transport_type</th>\n",
       "      <th>trips</th>\n",
       "    </tr>\n",
       "  </thead>\n",
       "  <tbody>\n",
       "    <tr>\n",
       "      <th>0</th>\n",
       "      <td>25.07501</td>\n",
       "      <td>55.188761</td>\n",
       "      <td>53</td>\n",
       "      <td>0</td>\n",
       "      <td>2</td>\n",
       "      <td>2018</td>\n",
       "      <td>3</td>\n",
       "      <td>14.9</td>\n",
       "      <td>1019</td>\n",
       "      <td>67</td>\n",
       "      <td>...</td>\n",
       "      <td>200</td>\n",
       "      <td>clouds</td>\n",
       "      <td>16.186667</td>\n",
       "      <td>Night</td>\n",
       "      <td>Feb</td>\n",
       "      <td>2</td>\n",
       "      <td>2018</td>\n",
       "      <td>Feb</td>\n",
       "      <td>Marine</td>\n",
       "      <td>141840</td>\n",
       "    </tr>\n",
       "    <tr>\n",
       "      <th>1</th>\n",
       "      <td>25.07501</td>\n",
       "      <td>55.188761</td>\n",
       "      <td>53</td>\n",
       "      <td>0</td>\n",
       "      <td>2</td>\n",
       "      <td>2018</td>\n",
       "      <td>3</td>\n",
       "      <td>14.9</td>\n",
       "      <td>1019</td>\n",
       "      <td>67</td>\n",
       "      <td>...</td>\n",
       "      <td>200</td>\n",
       "      <td>clouds</td>\n",
       "      <td>16.186667</td>\n",
       "      <td>Night</td>\n",
       "      <td>Feb</td>\n",
       "      <td>2</td>\n",
       "      <td>2018</td>\n",
       "      <td>Feb</td>\n",
       "      <td>Tram</td>\n",
       "      <td>528515</td>\n",
       "    </tr>\n",
       "    <tr>\n",
       "      <th>2</th>\n",
       "      <td>25.07501</td>\n",
       "      <td>55.188761</td>\n",
       "      <td>53</td>\n",
       "      <td>0</td>\n",
       "      <td>2</td>\n",
       "      <td>2018</td>\n",
       "      <td>3</td>\n",
       "      <td>14.9</td>\n",
       "      <td>1019</td>\n",
       "      <td>67</td>\n",
       "      <td>...</td>\n",
       "      <td>200</td>\n",
       "      <td>clouds</td>\n",
       "      <td>16.186667</td>\n",
       "      <td>Night</td>\n",
       "      <td>Feb</td>\n",
       "      <td>2</td>\n",
       "      <td>2018</td>\n",
       "      <td>Feb</td>\n",
       "      <td>Bus</td>\n",
       "      <td>11111573</td>\n",
       "    </tr>\n",
       "    <tr>\n",
       "      <th>3</th>\n",
       "      <td>25.07501</td>\n",
       "      <td>55.188761</td>\n",
       "      <td>53</td>\n",
       "      <td>0</td>\n",
       "      <td>2</td>\n",
       "      <td>2018</td>\n",
       "      <td>3</td>\n",
       "      <td>14.9</td>\n",
       "      <td>1019</td>\n",
       "      <td>67</td>\n",
       "      <td>...</td>\n",
       "      <td>200</td>\n",
       "      <td>clouds</td>\n",
       "      <td>16.186667</td>\n",
       "      <td>Night</td>\n",
       "      <td>Feb</td>\n",
       "      <td>2</td>\n",
       "      <td>2018</td>\n",
       "      <td>Feb</td>\n",
       "      <td>Metro</td>\n",
       "      <td>16915232</td>\n",
       "    </tr>\n",
       "    <tr>\n",
       "      <th>4</th>\n",
       "      <td>25.07501</td>\n",
       "      <td>55.188761</td>\n",
       "      <td>27</td>\n",
       "      <td>0</td>\n",
       "      <td>2</td>\n",
       "      <td>2018</td>\n",
       "      <td>3</td>\n",
       "      <td>14.77</td>\n",
       "      <td>1019</td>\n",
       "      <td>72</td>\n",
       "      <td>...</td>\n",
       "      <td>210</td>\n",
       "      <td>clouds</td>\n",
       "      <td>15.740000</td>\n",
       "      <td>Night</td>\n",
       "      <td>Feb</td>\n",
       "      <td>2</td>\n",
       "      <td>2018</td>\n",
       "      <td>Feb</td>\n",
       "      <td>Marine</td>\n",
       "      <td>141840</td>\n",
       "    </tr>\n",
       "  </tbody>\n",
       "</table>\n",
       "<p>5 rows × 21 columns</p>\n",
       "</div>"
      ],
      "text/plain": [
       "        lat        lon clouds  rain  month_x  year_x  weekdays Feels_like  \\\n",
       "0  25.07501  55.188761     53     0        2    2018         3       14.9   \n",
       "1  25.07501  55.188761     53     0        2    2018         3       14.9   \n",
       "2  25.07501  55.188761     53     0        2    2018         3       14.9   \n",
       "3  25.07501  55.188761     53     0        2    2018         3       14.9   \n",
       "4  25.07501  55.188761     27     0        2    2018         3      14.77   \n",
       "\n",
       "  Pressure Humidity  ... Wind_Deg    Main temp_average  period month_name id  \\\n",
       "0     1019       67  ...      200  clouds    16.186667   Night        Feb  2   \n",
       "1     1019       67  ...      200  clouds    16.186667   Night        Feb  2   \n",
       "2     1019       67  ...      200  clouds    16.186667   Night        Feb  2   \n",
       "3     1019       67  ...      200  clouds    16.186667   Night        Feb  2   \n",
       "4     1019       72  ...      210  clouds    15.740000   Night        Feb  2   \n",
       "\n",
       "   year_y month_y transport_type     trips  \n",
       "0    2018     Feb         Marine    141840  \n",
       "1    2018     Feb           Tram    528515  \n",
       "2    2018     Feb            Bus  11111573  \n",
       "3    2018     Feb          Metro  16915232  \n",
       "4    2018     Feb         Marine    141840  \n",
       "\n",
       "[5 rows x 21 columns]"
      ]
     },
     "execution_count": 144,
     "metadata": {},
     "output_type": "execute_result"
    }
   ],
   "source": [
    "data.head()"
   ]
  },
  {
   "cell_type": "code",
   "execution_count": 145,
   "metadata": {},
   "outputs": [],
   "source": [
    "data.drop(['year_y','month_y','id'],axis=1,inplace=True)"
   ]
  },
  {
   "cell_type": "code",
   "execution_count": 146,
   "metadata": {},
   "outputs": [],
   "source": [
    "data.columns = ['lat', 'lon', 'clouds', 'rain', 'month', 'year', 'weekdays',\n",
    "       'Feels_like', 'Pressure', 'Humidity', 'Wind_Speed', 'Wind_Deg', 'Main',\n",
    "       'temp_average', 'period', 'month_name', 'transport_type', 'trips']"
   ]
  },
  {
   "cell_type": "code",
   "execution_count": 147,
   "metadata": {},
   "outputs": [
    {
     "data": {
      "text/html": [
       "<div>\n",
       "<style scoped>\n",
       "    .dataframe tbody tr th:only-of-type {\n",
       "        vertical-align: middle;\n",
       "    }\n",
       "\n",
       "    .dataframe tbody tr th {\n",
       "        vertical-align: top;\n",
       "    }\n",
       "\n",
       "    .dataframe thead th {\n",
       "        text-align: right;\n",
       "    }\n",
       "</style>\n",
       "<table border=\"1\" class=\"dataframe\">\n",
       "  <thead>\n",
       "    <tr style=\"text-align: right;\">\n",
       "      <th></th>\n",
       "      <th>lat</th>\n",
       "      <th>lon</th>\n",
       "      <th>clouds</th>\n",
       "      <th>rain</th>\n",
       "      <th>month</th>\n",
       "      <th>year</th>\n",
       "      <th>weekdays</th>\n",
       "      <th>Feels_like</th>\n",
       "      <th>Pressure</th>\n",
       "      <th>Humidity</th>\n",
       "      <th>Wind_Speed</th>\n",
       "      <th>Wind_Deg</th>\n",
       "      <th>Main</th>\n",
       "      <th>temp_average</th>\n",
       "      <th>period</th>\n",
       "      <th>month_name</th>\n",
       "      <th>transport_type</th>\n",
       "      <th>trips</th>\n",
       "    </tr>\n",
       "  </thead>\n",
       "  <tbody>\n",
       "    <tr>\n",
       "      <th>0</th>\n",
       "      <td>25.07501</td>\n",
       "      <td>55.188761</td>\n",
       "      <td>53</td>\n",
       "      <td>0</td>\n",
       "      <td>2</td>\n",
       "      <td>2018</td>\n",
       "      <td>3</td>\n",
       "      <td>14.9</td>\n",
       "      <td>1019</td>\n",
       "      <td>67</td>\n",
       "      <td>2.6</td>\n",
       "      <td>200</td>\n",
       "      <td>clouds</td>\n",
       "      <td>16.186667</td>\n",
       "      <td>Night</td>\n",
       "      <td>Feb</td>\n",
       "      <td>Marine</td>\n",
       "      <td>141840</td>\n",
       "    </tr>\n",
       "    <tr>\n",
       "      <th>1</th>\n",
       "      <td>25.07501</td>\n",
       "      <td>55.188761</td>\n",
       "      <td>53</td>\n",
       "      <td>0</td>\n",
       "      <td>2</td>\n",
       "      <td>2018</td>\n",
       "      <td>3</td>\n",
       "      <td>14.9</td>\n",
       "      <td>1019</td>\n",
       "      <td>67</td>\n",
       "      <td>2.6</td>\n",
       "      <td>200</td>\n",
       "      <td>clouds</td>\n",
       "      <td>16.186667</td>\n",
       "      <td>Night</td>\n",
       "      <td>Feb</td>\n",
       "      <td>Tram</td>\n",
       "      <td>528515</td>\n",
       "    </tr>\n",
       "    <tr>\n",
       "      <th>2</th>\n",
       "      <td>25.07501</td>\n",
       "      <td>55.188761</td>\n",
       "      <td>53</td>\n",
       "      <td>0</td>\n",
       "      <td>2</td>\n",
       "      <td>2018</td>\n",
       "      <td>3</td>\n",
       "      <td>14.9</td>\n",
       "      <td>1019</td>\n",
       "      <td>67</td>\n",
       "      <td>2.6</td>\n",
       "      <td>200</td>\n",
       "      <td>clouds</td>\n",
       "      <td>16.186667</td>\n",
       "      <td>Night</td>\n",
       "      <td>Feb</td>\n",
       "      <td>Bus</td>\n",
       "      <td>11111573</td>\n",
       "    </tr>\n",
       "    <tr>\n",
       "      <th>3</th>\n",
       "      <td>25.07501</td>\n",
       "      <td>55.188761</td>\n",
       "      <td>53</td>\n",
       "      <td>0</td>\n",
       "      <td>2</td>\n",
       "      <td>2018</td>\n",
       "      <td>3</td>\n",
       "      <td>14.9</td>\n",
       "      <td>1019</td>\n",
       "      <td>67</td>\n",
       "      <td>2.6</td>\n",
       "      <td>200</td>\n",
       "      <td>clouds</td>\n",
       "      <td>16.186667</td>\n",
       "      <td>Night</td>\n",
       "      <td>Feb</td>\n",
       "      <td>Metro</td>\n",
       "      <td>16915232</td>\n",
       "    </tr>\n",
       "    <tr>\n",
       "      <th>4</th>\n",
       "      <td>25.07501</td>\n",
       "      <td>55.188761</td>\n",
       "      <td>27</td>\n",
       "      <td>0</td>\n",
       "      <td>2</td>\n",
       "      <td>2018</td>\n",
       "      <td>3</td>\n",
       "      <td>14.77</td>\n",
       "      <td>1019</td>\n",
       "      <td>72</td>\n",
       "      <td>2.6</td>\n",
       "      <td>210</td>\n",
       "      <td>clouds</td>\n",
       "      <td>15.740000</td>\n",
       "      <td>Night</td>\n",
       "      <td>Feb</td>\n",
       "      <td>Marine</td>\n",
       "      <td>141840</td>\n",
       "    </tr>\n",
       "  </tbody>\n",
       "</table>\n",
       "</div>"
      ],
      "text/plain": [
       "        lat        lon clouds  rain  month  year  weekdays Feels_like  \\\n",
       "0  25.07501  55.188761     53     0      2  2018         3       14.9   \n",
       "1  25.07501  55.188761     53     0      2  2018         3       14.9   \n",
       "2  25.07501  55.188761     53     0      2  2018         3       14.9   \n",
       "3  25.07501  55.188761     53     0      2  2018         3       14.9   \n",
       "4  25.07501  55.188761     27     0      2  2018         3      14.77   \n",
       "\n",
       "  Pressure Humidity Wind_Speed Wind_Deg    Main  temp_average period  \\\n",
       "0     1019       67        2.6      200  clouds     16.186667  Night   \n",
       "1     1019       67        2.6      200  clouds     16.186667  Night   \n",
       "2     1019       67        2.6      200  clouds     16.186667  Night   \n",
       "3     1019       67        2.6      200  clouds     16.186667  Night   \n",
       "4     1019       72        2.6      210  clouds     15.740000  Night   \n",
       "\n",
       "  month_name transport_type     trips  \n",
       "0        Feb         Marine    141840  \n",
       "1        Feb           Tram    528515  \n",
       "2        Feb            Bus  11111573  \n",
       "3        Feb          Metro  16915232  \n",
       "4        Feb         Marine    141840  "
      ]
     },
     "execution_count": 147,
     "metadata": {},
     "output_type": "execute_result"
    }
   ],
   "source": [
    "data.head()"
   ]
  },
  {
   "cell_type": "markdown",
   "metadata": {},
   "source": [
    "+ Checking for missing information"
   ]
  },
  {
   "cell_type": "code",
   "execution_count": 148,
   "metadata": {},
   "outputs": [
    {
     "data": {
      "text/plain": [
       "lat               0.000000\n",
       "lon               0.000000\n",
       "clouds            0.000000\n",
       "rain              0.000000\n",
       "month             0.000000\n",
       "year              0.000000\n",
       "weekdays          0.000000\n",
       "Feels_like        0.957346\n",
       "Pressure          0.000000\n",
       "Humidity          0.000000\n",
       "Wind_Speed        4.182960\n",
       "Wind_Deg          0.000000\n",
       "Main              0.000000\n",
       "temp_average      0.000000\n",
       "period            0.000000\n",
       "month_name        0.000000\n",
       "transport_type    0.000000\n",
       "trips             0.000000\n",
       "dtype: float64"
      ]
     },
     "execution_count": 148,
     "metadata": {},
     "output_type": "execute_result"
    }
   ],
   "source": [
    "data.isnull().mean()*100"
   ]
  },
  {
   "cell_type": "code",
   "execution_count": 149,
   "metadata": {},
   "outputs": [
    {
     "name": "stdout",
     "output_type": "stream",
     "text": [
      "<class 'pandas.core.frame.DataFrame'>\n",
      "Int64Index: 66747 entries, 0 to 66746\n",
      "Data columns (total 18 columns):\n",
      " #   Column          Non-Null Count  Dtype  \n",
      "---  ------          --------------  -----  \n",
      " 0   lat             66747 non-null  float64\n",
      " 1   lon             66747 non-null  float64\n",
      " 2   clouds          66747 non-null  object \n",
      " 3   rain            66747 non-null  int64  \n",
      " 4   month           66747 non-null  int64  \n",
      " 5   year            66747 non-null  int64  \n",
      " 6   weekdays        66747 non-null  int64  \n",
      " 7   Feels_like      66108 non-null  object \n",
      " 8   Pressure        66747 non-null  object \n",
      " 9   Humidity        66747 non-null  object \n",
      " 10  Wind_Speed      63955 non-null  object \n",
      " 11  Wind_Deg        66747 non-null  object \n",
      " 12  Main            66747 non-null  object \n",
      " 13  temp_average    66747 non-null  float64\n",
      " 14  period          66747 non-null  object \n",
      " 15  month_name      66747 non-null  object \n",
      " 16  transport_type  66747 non-null  object \n",
      " 17  trips           66747 non-null  object \n",
      "dtypes: float64(3), int64(4), object(11)\n",
      "memory usage: 9.7+ MB\n"
     ]
    }
   ],
   "source": [
    "data.info()"
   ]
  },
  {
   "cell_type": "markdown",
   "metadata": {},
   "source": [
    "+ Filling missing information, since both features with missing information have less than `5%` missing values, we will fill with the mean"
   ]
  },
  {
   "cell_type": "code",
   "execution_count": 150,
   "metadata": {},
   "outputs": [
    {
     "data": {
      "text/html": [
       "<div>\n",
       "<style scoped>\n",
       "    .dataframe tbody tr th:only-of-type {\n",
       "        vertical-align: middle;\n",
       "    }\n",
       "\n",
       "    .dataframe tbody tr th {\n",
       "        vertical-align: top;\n",
       "    }\n",
       "\n",
       "    .dataframe thead th {\n",
       "        text-align: right;\n",
       "    }\n",
       "</style>\n",
       "<table border=\"1\" class=\"dataframe\">\n",
       "  <thead>\n",
       "    <tr style=\"text-align: right;\">\n",
       "      <th></th>\n",
       "      <th>lat</th>\n",
       "      <th>lon</th>\n",
       "      <th>clouds</th>\n",
       "      <th>rain</th>\n",
       "      <th>month</th>\n",
       "      <th>year</th>\n",
       "      <th>weekdays</th>\n",
       "      <th>Feels_like</th>\n",
       "      <th>Pressure</th>\n",
       "      <th>Humidity</th>\n",
       "      <th>Wind_Speed</th>\n",
       "      <th>Wind_Deg</th>\n",
       "      <th>Main</th>\n",
       "      <th>temp_average</th>\n",
       "      <th>period</th>\n",
       "      <th>month_name</th>\n",
       "      <th>transport_type</th>\n",
       "      <th>trips</th>\n",
       "    </tr>\n",
       "  </thead>\n",
       "  <tbody>\n",
       "    <tr>\n",
       "      <th>0</th>\n",
       "      <td>25.07501</td>\n",
       "      <td>55.188761</td>\n",
       "      <td>53</td>\n",
       "      <td>0</td>\n",
       "      <td>2</td>\n",
       "      <td>2018</td>\n",
       "      <td>3</td>\n",
       "      <td>14.9</td>\n",
       "      <td>1019</td>\n",
       "      <td>67</td>\n",
       "      <td>2.6</td>\n",
       "      <td>200</td>\n",
       "      <td>clouds</td>\n",
       "      <td>16.186667</td>\n",
       "      <td>Night</td>\n",
       "      <td>Feb</td>\n",
       "      <td>Marine</td>\n",
       "      <td>141840</td>\n",
       "    </tr>\n",
       "  </tbody>\n",
       "</table>\n",
       "</div>"
      ],
      "text/plain": [
       "        lat        lon clouds  rain  month  year  weekdays Feels_like  \\\n",
       "0  25.07501  55.188761     53     0      2  2018         3       14.9   \n",
       "\n",
       "  Pressure Humidity Wind_Speed Wind_Deg    Main  temp_average period  \\\n",
       "0     1019       67        2.6      200  clouds     16.186667  Night   \n",
       "\n",
       "  month_name transport_type   trips  \n",
       "0        Feb         Marine  141840  "
      ]
     },
     "execution_count": 150,
     "metadata": {},
     "output_type": "execute_result"
    }
   ],
   "source": [
    "data.head(1)"
   ]
  },
  {
   "cell_type": "code",
   "execution_count": 151,
   "metadata": {},
   "outputs": [],
   "source": [
    "data['Wind_Speed'] = data['Wind_Speed'].astype('float')\n",
    "data['Feels_like'] = data['Feels_like'].astype('float')\n",
    "data['Wind_Speed'].fillna(data['Wind_Speed'].mean(),inplace=True)\n",
    "data['Feels_like'].fillna(data['Feels_like'].mean(),inplace=True)"
   ]
  },
  {
   "cell_type": "code",
   "execution_count": 152,
   "metadata": {},
   "outputs": [
    {
     "data": {
      "text/plain": [
       "lat               0\n",
       "lon               0\n",
       "clouds            0\n",
       "rain              0\n",
       "month             0\n",
       "year              0\n",
       "weekdays          0\n",
       "Feels_like        0\n",
       "Pressure          0\n",
       "Humidity          0\n",
       "Wind_Speed        0\n",
       "Wind_Deg          0\n",
       "Main              0\n",
       "temp_average      0\n",
       "period            0\n",
       "month_name        0\n",
       "transport_type    0\n",
       "trips             0\n",
       "dtype: int64"
      ]
     },
     "execution_count": 152,
     "metadata": {},
     "output_type": "execute_result"
    }
   ],
   "source": [
    "data.isnull().sum()"
   ]
  },
  {
   "cell_type": "markdown",
   "metadata": {},
   "source": [
    "###  3. Exploratory Data Analysis\n",
    "\n",
    "After cleaning the data and preparing it, Exploratory Data Analysis (EDA) will be performed to gather insights that will be useful for the model to learn from the data to help improve performance of the model"
   ]
  },
  {
   "cell_type": "code",
   "execution_count": 153,
   "metadata": {},
   "outputs": [
    {
     "data": {
      "text/html": [
       "<div>\n",
       "<style scoped>\n",
       "    .dataframe tbody tr th:only-of-type {\n",
       "        vertical-align: middle;\n",
       "    }\n",
       "\n",
       "    .dataframe tbody tr th {\n",
       "        vertical-align: top;\n",
       "    }\n",
       "\n",
       "    .dataframe thead th {\n",
       "        text-align: right;\n",
       "    }\n",
       "</style>\n",
       "<table border=\"1\" class=\"dataframe\">\n",
       "  <thead>\n",
       "    <tr style=\"text-align: right;\">\n",
       "      <th></th>\n",
       "      <th>lat</th>\n",
       "      <th>lon</th>\n",
       "      <th>clouds</th>\n",
       "      <th>rain</th>\n",
       "      <th>month</th>\n",
       "      <th>year</th>\n",
       "      <th>weekdays</th>\n",
       "      <th>Feels_like</th>\n",
       "      <th>Pressure</th>\n",
       "      <th>Humidity</th>\n",
       "      <th>Wind_Speed</th>\n",
       "      <th>Wind_Deg</th>\n",
       "      <th>Main</th>\n",
       "      <th>temp_average</th>\n",
       "      <th>period</th>\n",
       "      <th>month_name</th>\n",
       "      <th>transport_type</th>\n",
       "      <th>trips</th>\n",
       "    </tr>\n",
       "  </thead>\n",
       "  <tbody>\n",
       "    <tr>\n",
       "      <th>0</th>\n",
       "      <td>25.07501</td>\n",
       "      <td>55.188761</td>\n",
       "      <td>53</td>\n",
       "      <td>0</td>\n",
       "      <td>2</td>\n",
       "      <td>2018</td>\n",
       "      <td>3</td>\n",
       "      <td>14.90</td>\n",
       "      <td>1019</td>\n",
       "      <td>67</td>\n",
       "      <td>2.6</td>\n",
       "      <td>200</td>\n",
       "      <td>clouds</td>\n",
       "      <td>16.186667</td>\n",
       "      <td>Night</td>\n",
       "      <td>Feb</td>\n",
       "      <td>Marine</td>\n",
       "      <td>141840</td>\n",
       "    </tr>\n",
       "    <tr>\n",
       "      <th>1</th>\n",
       "      <td>25.07501</td>\n",
       "      <td>55.188761</td>\n",
       "      <td>53</td>\n",
       "      <td>0</td>\n",
       "      <td>2</td>\n",
       "      <td>2018</td>\n",
       "      <td>3</td>\n",
       "      <td>14.90</td>\n",
       "      <td>1019</td>\n",
       "      <td>67</td>\n",
       "      <td>2.6</td>\n",
       "      <td>200</td>\n",
       "      <td>clouds</td>\n",
       "      <td>16.186667</td>\n",
       "      <td>Night</td>\n",
       "      <td>Feb</td>\n",
       "      <td>Tram</td>\n",
       "      <td>528515</td>\n",
       "    </tr>\n",
       "    <tr>\n",
       "      <th>2</th>\n",
       "      <td>25.07501</td>\n",
       "      <td>55.188761</td>\n",
       "      <td>53</td>\n",
       "      <td>0</td>\n",
       "      <td>2</td>\n",
       "      <td>2018</td>\n",
       "      <td>3</td>\n",
       "      <td>14.90</td>\n",
       "      <td>1019</td>\n",
       "      <td>67</td>\n",
       "      <td>2.6</td>\n",
       "      <td>200</td>\n",
       "      <td>clouds</td>\n",
       "      <td>16.186667</td>\n",
       "      <td>Night</td>\n",
       "      <td>Feb</td>\n",
       "      <td>Bus</td>\n",
       "      <td>11111573</td>\n",
       "    </tr>\n",
       "    <tr>\n",
       "      <th>3</th>\n",
       "      <td>25.07501</td>\n",
       "      <td>55.188761</td>\n",
       "      <td>53</td>\n",
       "      <td>0</td>\n",
       "      <td>2</td>\n",
       "      <td>2018</td>\n",
       "      <td>3</td>\n",
       "      <td>14.90</td>\n",
       "      <td>1019</td>\n",
       "      <td>67</td>\n",
       "      <td>2.6</td>\n",
       "      <td>200</td>\n",
       "      <td>clouds</td>\n",
       "      <td>16.186667</td>\n",
       "      <td>Night</td>\n",
       "      <td>Feb</td>\n",
       "      <td>Metro</td>\n",
       "      <td>16915232</td>\n",
       "    </tr>\n",
       "    <tr>\n",
       "      <th>4</th>\n",
       "      <td>25.07501</td>\n",
       "      <td>55.188761</td>\n",
       "      <td>27</td>\n",
       "      <td>0</td>\n",
       "      <td>2</td>\n",
       "      <td>2018</td>\n",
       "      <td>3</td>\n",
       "      <td>14.77</td>\n",
       "      <td>1019</td>\n",
       "      <td>72</td>\n",
       "      <td>2.6</td>\n",
       "      <td>210</td>\n",
       "      <td>clouds</td>\n",
       "      <td>15.740000</td>\n",
       "      <td>Night</td>\n",
       "      <td>Feb</td>\n",
       "      <td>Marine</td>\n",
       "      <td>141840</td>\n",
       "    </tr>\n",
       "  </tbody>\n",
       "</table>\n",
       "</div>"
      ],
      "text/plain": [
       "        lat        lon clouds  rain  month  year  weekdays  Feels_like  \\\n",
       "0  25.07501  55.188761     53     0      2  2018         3       14.90   \n",
       "1  25.07501  55.188761     53     0      2  2018         3       14.90   \n",
       "2  25.07501  55.188761     53     0      2  2018         3       14.90   \n",
       "3  25.07501  55.188761     53     0      2  2018         3       14.90   \n",
       "4  25.07501  55.188761     27     0      2  2018         3       14.77   \n",
       "\n",
       "  Pressure Humidity  Wind_Speed Wind_Deg    Main  temp_average period  \\\n",
       "0     1019       67         2.6      200  clouds     16.186667  Night   \n",
       "1     1019       67         2.6      200  clouds     16.186667  Night   \n",
       "2     1019       67         2.6      200  clouds     16.186667  Night   \n",
       "3     1019       67         2.6      200  clouds     16.186667  Night   \n",
       "4     1019       72         2.6      210  clouds     15.740000  Night   \n",
       "\n",
       "  month_name transport_type     trips  \n",
       "0        Feb         Marine    141840  \n",
       "1        Feb           Tram    528515  \n",
       "2        Feb            Bus  11111573  \n",
       "3        Feb          Metro  16915232  \n",
       "4        Feb         Marine    141840  "
      ]
     },
     "execution_count": 153,
     "metadata": {},
     "output_type": "execute_result"
    }
   ],
   "source": [
    "data.head()"
   ]
  },
  {
   "cell_type": "code",
   "execution_count": 154,
   "metadata": {},
   "outputs": [
    {
     "name": "stdout",
     "output_type": "stream",
     "text": [
      "<class 'pandas.core.frame.DataFrame'>\n",
      "Int64Index: 66747 entries, 0 to 66746\n",
      "Data columns (total 18 columns):\n",
      " #   Column          Non-Null Count  Dtype  \n",
      "---  ------          --------------  -----  \n",
      " 0   lat             66747 non-null  float64\n",
      " 1   lon             66747 non-null  float64\n",
      " 2   clouds          66747 non-null  object \n",
      " 3   rain            66747 non-null  int64  \n",
      " 4   month           66747 non-null  int64  \n",
      " 5   year            66747 non-null  int64  \n",
      " 6   weekdays        66747 non-null  int64  \n",
      " 7   Feels_like      66747 non-null  float64\n",
      " 8   Pressure        66747 non-null  object \n",
      " 9   Humidity        66747 non-null  object \n",
      " 10  Wind_Speed      66747 non-null  float64\n",
      " 11  Wind_Deg        66747 non-null  object \n",
      " 12  Main            66747 non-null  object \n",
      " 13  temp_average    66747 non-null  float64\n",
      " 14  period          66747 non-null  object \n",
      " 15  month_name      66747 non-null  object \n",
      " 16  transport_type  66747 non-null  object \n",
      " 17  trips           66747 non-null  object \n",
      "dtypes: float64(5), int64(4), object(9)\n",
      "memory usage: 9.7+ MB\n"
     ]
    }
   ],
   "source": [
    "data.info()"
   ]
  },
  {
   "cell_type": "code",
   "execution_count": 155,
   "metadata": {},
   "outputs": [],
   "source": [
    "data.trips = data.trips.astype('float')"
   ]
  },
  {
   "cell_type": "code",
   "execution_count": 156,
   "metadata": {},
   "outputs": [
    {
     "data": {
      "text/html": [
       "<div>\n",
       "<style scoped>\n",
       "    .dataframe tbody tr th:only-of-type {\n",
       "        vertical-align: middle;\n",
       "    }\n",
       "\n",
       "    .dataframe tbody tr th {\n",
       "        vertical-align: top;\n",
       "    }\n",
       "\n",
       "    .dataframe thead th {\n",
       "        text-align: right;\n",
       "    }\n",
       "</style>\n",
       "<table border=\"1\" class=\"dataframe\">\n",
       "  <thead>\n",
       "    <tr style=\"text-align: right;\">\n",
       "      <th></th>\n",
       "      <th>lat</th>\n",
       "      <th>lon</th>\n",
       "      <th>clouds</th>\n",
       "      <th>rain</th>\n",
       "      <th>month</th>\n",
       "      <th>year</th>\n",
       "      <th>weekdays</th>\n",
       "      <th>Feels_like</th>\n",
       "      <th>Pressure</th>\n",
       "      <th>Humidity</th>\n",
       "      <th>Wind_Speed</th>\n",
       "      <th>Wind_Deg</th>\n",
       "      <th>Main</th>\n",
       "      <th>temp_average</th>\n",
       "      <th>period</th>\n",
       "      <th>month_name</th>\n",
       "      <th>transport_type</th>\n",
       "      <th>trips</th>\n",
       "    </tr>\n",
       "  </thead>\n",
       "  <tbody>\n",
       "    <tr>\n",
       "      <th>0</th>\n",
       "      <td>25.07501</td>\n",
       "      <td>55.188761</td>\n",
       "      <td>53</td>\n",
       "      <td>0</td>\n",
       "      <td>2</td>\n",
       "      <td>2018</td>\n",
       "      <td>3</td>\n",
       "      <td>14.90</td>\n",
       "      <td>1019</td>\n",
       "      <td>67</td>\n",
       "      <td>2.6</td>\n",
       "      <td>200</td>\n",
       "      <td>clouds</td>\n",
       "      <td>16.186667</td>\n",
       "      <td>Night</td>\n",
       "      <td>Feb</td>\n",
       "      <td>Marine</td>\n",
       "      <td>141840.0</td>\n",
       "    </tr>\n",
       "    <tr>\n",
       "      <th>1</th>\n",
       "      <td>25.07501</td>\n",
       "      <td>55.188761</td>\n",
       "      <td>53</td>\n",
       "      <td>0</td>\n",
       "      <td>2</td>\n",
       "      <td>2018</td>\n",
       "      <td>3</td>\n",
       "      <td>14.90</td>\n",
       "      <td>1019</td>\n",
       "      <td>67</td>\n",
       "      <td>2.6</td>\n",
       "      <td>200</td>\n",
       "      <td>clouds</td>\n",
       "      <td>16.186667</td>\n",
       "      <td>Night</td>\n",
       "      <td>Feb</td>\n",
       "      <td>Tram</td>\n",
       "      <td>528515.0</td>\n",
       "    </tr>\n",
       "    <tr>\n",
       "      <th>2</th>\n",
       "      <td>25.07501</td>\n",
       "      <td>55.188761</td>\n",
       "      <td>53</td>\n",
       "      <td>0</td>\n",
       "      <td>2</td>\n",
       "      <td>2018</td>\n",
       "      <td>3</td>\n",
       "      <td>14.90</td>\n",
       "      <td>1019</td>\n",
       "      <td>67</td>\n",
       "      <td>2.6</td>\n",
       "      <td>200</td>\n",
       "      <td>clouds</td>\n",
       "      <td>16.186667</td>\n",
       "      <td>Night</td>\n",
       "      <td>Feb</td>\n",
       "      <td>Bus</td>\n",
       "      <td>11111573.0</td>\n",
       "    </tr>\n",
       "    <tr>\n",
       "      <th>3</th>\n",
       "      <td>25.07501</td>\n",
       "      <td>55.188761</td>\n",
       "      <td>53</td>\n",
       "      <td>0</td>\n",
       "      <td>2</td>\n",
       "      <td>2018</td>\n",
       "      <td>3</td>\n",
       "      <td>14.90</td>\n",
       "      <td>1019</td>\n",
       "      <td>67</td>\n",
       "      <td>2.6</td>\n",
       "      <td>200</td>\n",
       "      <td>clouds</td>\n",
       "      <td>16.186667</td>\n",
       "      <td>Night</td>\n",
       "      <td>Feb</td>\n",
       "      <td>Metro</td>\n",
       "      <td>16915232.0</td>\n",
       "    </tr>\n",
       "    <tr>\n",
       "      <th>4</th>\n",
       "      <td>25.07501</td>\n",
       "      <td>55.188761</td>\n",
       "      <td>27</td>\n",
       "      <td>0</td>\n",
       "      <td>2</td>\n",
       "      <td>2018</td>\n",
       "      <td>3</td>\n",
       "      <td>14.77</td>\n",
       "      <td>1019</td>\n",
       "      <td>72</td>\n",
       "      <td>2.6</td>\n",
       "      <td>210</td>\n",
       "      <td>clouds</td>\n",
       "      <td>15.740000</td>\n",
       "      <td>Night</td>\n",
       "      <td>Feb</td>\n",
       "      <td>Marine</td>\n",
       "      <td>141840.0</td>\n",
       "    </tr>\n",
       "  </tbody>\n",
       "</table>\n",
       "</div>"
      ],
      "text/plain": [
       "        lat        lon clouds  rain  month  year  weekdays  Feels_like  \\\n",
       "0  25.07501  55.188761     53     0      2  2018         3       14.90   \n",
       "1  25.07501  55.188761     53     0      2  2018         3       14.90   \n",
       "2  25.07501  55.188761     53     0      2  2018         3       14.90   \n",
       "3  25.07501  55.188761     53     0      2  2018         3       14.90   \n",
       "4  25.07501  55.188761     27     0      2  2018         3       14.77   \n",
       "\n",
       "  Pressure Humidity  Wind_Speed Wind_Deg    Main  temp_average period  \\\n",
       "0     1019       67         2.6      200  clouds     16.186667  Night   \n",
       "1     1019       67         2.6      200  clouds     16.186667  Night   \n",
       "2     1019       67         2.6      200  clouds     16.186667  Night   \n",
       "3     1019       67         2.6      200  clouds     16.186667  Night   \n",
       "4     1019       72         2.6      210  clouds     15.740000  Night   \n",
       "\n",
       "  month_name transport_type       trips  \n",
       "0        Feb         Marine    141840.0  \n",
       "1        Feb           Tram    528515.0  \n",
       "2        Feb            Bus  11111573.0  \n",
       "3        Feb          Metro  16915232.0  \n",
       "4        Feb         Marine    141840.0  "
      ]
     },
     "execution_count": 156,
     "metadata": {},
     "output_type": "execute_result"
    }
   ],
   "source": [
    "data.head()"
   ]
  },
  {
   "cell_type": "code",
   "execution_count": 157,
   "metadata": {},
   "outputs": [],
   "source": [
    "# Exploring the rain feautures to determine the impact on transport trips completed"
   ]
  },
  {
   "cell_type": "code",
   "execution_count": 158,
   "metadata": {},
   "outputs": [
    {
     "data": {
      "text/html": [
       "<div>\n",
       "<style scoped>\n",
       "    .dataframe tbody tr th:only-of-type {\n",
       "        vertical-align: middle;\n",
       "    }\n",
       "\n",
       "    .dataframe tbody tr th {\n",
       "        vertical-align: top;\n",
       "    }\n",
       "\n",
       "    .dataframe thead th {\n",
       "        text-align: right;\n",
       "    }\n",
       "</style>\n",
       "<table border=\"1\" class=\"dataframe\">\n",
       "  <thead>\n",
       "    <tr style=\"text-align: right;\">\n",
       "      <th></th>\n",
       "      <th>lat</th>\n",
       "      <th>lon</th>\n",
       "      <th>clouds</th>\n",
       "      <th>rain</th>\n",
       "      <th>month</th>\n",
       "      <th>year</th>\n",
       "      <th>weekdays</th>\n",
       "      <th>Feels_like</th>\n",
       "      <th>Pressure</th>\n",
       "      <th>Humidity</th>\n",
       "      <th>Wind_Speed</th>\n",
       "      <th>Wind_Deg</th>\n",
       "      <th>Main</th>\n",
       "      <th>temp_average</th>\n",
       "      <th>period</th>\n",
       "      <th>month_name</th>\n",
       "      <th>transport_type</th>\n",
       "      <th>trips</th>\n",
       "    </tr>\n",
       "  </thead>\n",
       "  <tbody>\n",
       "    <tr>\n",
       "      <th>2272</th>\n",
       "      <td>25.07501</td>\n",
       "      <td>55.188761</td>\n",
       "      <td>82</td>\n",
       "      <td>1</td>\n",
       "      <td>2</td>\n",
       "      <td>2018</td>\n",
       "      <td>5</td>\n",
       "      <td>26.60</td>\n",
       "      <td>1008</td>\n",
       "      <td>45</td>\n",
       "      <td>4.6</td>\n",
       "      <td>360</td>\n",
       "      <td>rain</td>\n",
       "      <td>28.39</td>\n",
       "      <td>Night</td>\n",
       "      <td>Feb</td>\n",
       "      <td>Marine</td>\n",
       "      <td>141840.0</td>\n",
       "    </tr>\n",
       "    <tr>\n",
       "      <th>2273</th>\n",
       "      <td>25.07501</td>\n",
       "      <td>55.188761</td>\n",
       "      <td>82</td>\n",
       "      <td>1</td>\n",
       "      <td>2</td>\n",
       "      <td>2018</td>\n",
       "      <td>5</td>\n",
       "      <td>26.60</td>\n",
       "      <td>1008</td>\n",
       "      <td>45</td>\n",
       "      <td>4.6</td>\n",
       "      <td>360</td>\n",
       "      <td>rain</td>\n",
       "      <td>28.39</td>\n",
       "      <td>Night</td>\n",
       "      <td>Feb</td>\n",
       "      <td>Tram</td>\n",
       "      <td>528515.0</td>\n",
       "    </tr>\n",
       "    <tr>\n",
       "      <th>2274</th>\n",
       "      <td>25.07501</td>\n",
       "      <td>55.188761</td>\n",
       "      <td>82</td>\n",
       "      <td>1</td>\n",
       "      <td>2</td>\n",
       "      <td>2018</td>\n",
       "      <td>5</td>\n",
       "      <td>26.60</td>\n",
       "      <td>1008</td>\n",
       "      <td>45</td>\n",
       "      <td>4.6</td>\n",
       "      <td>360</td>\n",
       "      <td>rain</td>\n",
       "      <td>28.39</td>\n",
       "      <td>Night</td>\n",
       "      <td>Feb</td>\n",
       "      <td>Bus</td>\n",
       "      <td>11111573.0</td>\n",
       "    </tr>\n",
       "    <tr>\n",
       "      <th>2275</th>\n",
       "      <td>25.07501</td>\n",
       "      <td>55.188761</td>\n",
       "      <td>82</td>\n",
       "      <td>1</td>\n",
       "      <td>2</td>\n",
       "      <td>2018</td>\n",
       "      <td>5</td>\n",
       "      <td>26.60</td>\n",
       "      <td>1008</td>\n",
       "      <td>45</td>\n",
       "      <td>4.6</td>\n",
       "      <td>360</td>\n",
       "      <td>rain</td>\n",
       "      <td>28.39</td>\n",
       "      <td>Night</td>\n",
       "      <td>Feb</td>\n",
       "      <td>Metro</td>\n",
       "      <td>16915232.0</td>\n",
       "    </tr>\n",
       "    <tr>\n",
       "      <th>2300</th>\n",
       "      <td>25.07501</td>\n",
       "      <td>55.188761</td>\n",
       "      <td>100</td>\n",
       "      <td>1</td>\n",
       "      <td>2</td>\n",
       "      <td>2018</td>\n",
       "      <td>5</td>\n",
       "      <td>25.21</td>\n",
       "      <td>1009</td>\n",
       "      <td>50</td>\n",
       "      <td>2.6</td>\n",
       "      <td>70</td>\n",
       "      <td>rain</td>\n",
       "      <td>25.54</td>\n",
       "      <td>Night</td>\n",
       "      <td>Feb</td>\n",
       "      <td>Marine</td>\n",
       "      <td>141840.0</td>\n",
       "    </tr>\n",
       "  </tbody>\n",
       "</table>\n",
       "</div>"
      ],
      "text/plain": [
       "           lat        lon clouds  rain  month  year  weekdays  Feels_like  \\\n",
       "2272  25.07501  55.188761     82     1      2  2018         5       26.60   \n",
       "2273  25.07501  55.188761     82     1      2  2018         5       26.60   \n",
       "2274  25.07501  55.188761     82     1      2  2018         5       26.60   \n",
       "2275  25.07501  55.188761     82     1      2  2018         5       26.60   \n",
       "2300  25.07501  55.188761    100     1      2  2018         5       25.21   \n",
       "\n",
       "     Pressure Humidity  Wind_Speed Wind_Deg  Main  temp_average period  \\\n",
       "2272     1008       45         4.6      360  rain         28.39  Night   \n",
       "2273     1008       45         4.6      360  rain         28.39  Night   \n",
       "2274     1008       45         4.6      360  rain         28.39  Night   \n",
       "2275     1008       45         4.6      360  rain         28.39  Night   \n",
       "2300     1009       50         2.6       70  rain         25.54  Night   \n",
       "\n",
       "     month_name transport_type       trips  \n",
       "2272        Feb         Marine    141840.0  \n",
       "2273        Feb           Tram    528515.0  \n",
       "2274        Feb            Bus  11111573.0  \n",
       "2275        Feb          Metro  16915232.0  \n",
       "2300        Feb         Marine    141840.0  "
      ]
     },
     "execution_count": 158,
     "metadata": {},
     "output_type": "execute_result"
    }
   ],
   "source": [
    "data[data.rain==1].head()"
   ]
  },
  {
   "cell_type": "markdown",
   "metadata": {},
   "source": [
    "+ Checking the `rain` feature and `main` feature we see that the rain also captured which implies that the binary feature `rain` is redundant and can be dropped"
   ]
  },
  {
   "cell_type": "code",
   "execution_count": 159,
   "metadata": {},
   "outputs": [],
   "source": [
    "data.drop(['rain'],axis=1,inplace=True)"
   ]
  },
  {
   "cell_type": "code",
   "execution_count": 160,
   "metadata": {},
   "outputs": [
    {
     "data": {
      "text/plain": [
       "'100'"
      ]
     },
     "execution_count": 160,
     "metadata": {},
     "output_type": "execute_result"
    }
   ],
   "source": [
    "data[data['Main']=='clouds']['clouds'].min()"
   ]
  },
  {
   "cell_type": "code",
   "execution_count": 161,
   "metadata": {},
   "outputs": [
    {
     "data": {
      "text/html": [
       "<div>\n",
       "<style scoped>\n",
       "    .dataframe tbody tr th:only-of-type {\n",
       "        vertical-align: middle;\n",
       "    }\n",
       "\n",
       "    .dataframe tbody tr th {\n",
       "        vertical-align: top;\n",
       "    }\n",
       "\n",
       "    .dataframe thead th {\n",
       "        text-align: right;\n",
       "    }\n",
       "</style>\n",
       "<table border=\"1\" class=\"dataframe\">\n",
       "  <thead>\n",
       "    <tr style=\"text-align: right;\">\n",
       "      <th></th>\n",
       "      <th>lat</th>\n",
       "      <th>lon</th>\n",
       "      <th>clouds</th>\n",
       "      <th>month</th>\n",
       "      <th>year</th>\n",
       "      <th>weekdays</th>\n",
       "      <th>Feels_like</th>\n",
       "      <th>Pressure</th>\n",
       "      <th>Humidity</th>\n",
       "      <th>Wind_Speed</th>\n",
       "      <th>Wind_Deg</th>\n",
       "      <th>Main</th>\n",
       "      <th>temp_average</th>\n",
       "      <th>period</th>\n",
       "      <th>month_name</th>\n",
       "      <th>transport_type</th>\n",
       "      <th>trips</th>\n",
       "    </tr>\n",
       "  </thead>\n",
       "  <tbody>\n",
       "    <tr>\n",
       "      <th>0</th>\n",
       "      <td>25.07501</td>\n",
       "      <td>55.188761</td>\n",
       "      <td>53</td>\n",
       "      <td>2</td>\n",
       "      <td>2018</td>\n",
       "      <td>3</td>\n",
       "      <td>14.9</td>\n",
       "      <td>1019</td>\n",
       "      <td>67</td>\n",
       "      <td>2.6</td>\n",
       "      <td>200</td>\n",
       "      <td>clouds</td>\n",
       "      <td>16.186667</td>\n",
       "      <td>Night</td>\n",
       "      <td>Feb</td>\n",
       "      <td>Marine</td>\n",
       "      <td>141840.0</td>\n",
       "    </tr>\n",
       "    <tr>\n",
       "      <th>1</th>\n",
       "      <td>25.07501</td>\n",
       "      <td>55.188761</td>\n",
       "      <td>53</td>\n",
       "      <td>2</td>\n",
       "      <td>2018</td>\n",
       "      <td>3</td>\n",
       "      <td>14.9</td>\n",
       "      <td>1019</td>\n",
       "      <td>67</td>\n",
       "      <td>2.6</td>\n",
       "      <td>200</td>\n",
       "      <td>clouds</td>\n",
       "      <td>16.186667</td>\n",
       "      <td>Night</td>\n",
       "      <td>Feb</td>\n",
       "      <td>Tram</td>\n",
       "      <td>528515.0</td>\n",
       "    </tr>\n",
       "  </tbody>\n",
       "</table>\n",
       "</div>"
      ],
      "text/plain": [
       "        lat        lon clouds  month  year  weekdays  Feels_like Pressure  \\\n",
       "0  25.07501  55.188761     53      2  2018         3        14.9     1019   \n",
       "1  25.07501  55.188761     53      2  2018         3        14.9     1019   \n",
       "\n",
       "  Humidity  Wind_Speed Wind_Deg    Main  temp_average period month_name  \\\n",
       "0       67         2.6      200  clouds     16.186667  Night        Feb   \n",
       "1       67         2.6      200  clouds     16.186667  Night        Feb   \n",
       "\n",
       "  transport_type     trips  \n",
       "0         Marine  141840.0  \n",
       "1           Tram  528515.0  "
      ]
     },
     "execution_count": 161,
     "metadata": {},
     "output_type": "execute_result"
    }
   ],
   "source": [
    "data.head(2)"
   ]
  },
  {
   "cell_type": "code",
   "execution_count": 162,
   "metadata": {},
   "outputs": [],
   "source": [
    "data.drop(['month'],axis=1,inplace=True)"
   ]
  },
  {
   "cell_type": "code",
   "execution_count": 163,
   "metadata": {},
   "outputs": [
    {
     "data": {
      "image/png": "[encoded data removed]",
      "text/plain": [
       "<Figure size 576x504 with 1 Axes>"
      ]
     },
     "metadata": {},
     "output_type": "display_data"
    }
   ],
   "source": [
    "plt.figure(figsize = (8,7))\n",
    "data.groupby(['year'])['trips'].sum().plot.bar()\n",
    "plt.xlabel('Year')\n",
    "plt.ylabel('Total number of Trips completed')\n",
    "plt.title('Trips completion per year ')\n",
    "plt.tight_layout()"
   ]
  },
  {
   "cell_type": "markdown",
   "metadata": {},
   "source": [
    "From above we see that `2018` had the highest number of trips completed with a decline in `2019` and `2020`. It important to perform a diagnostics analysis to understand why the decline in 2019 to help in preventing the disruption in 2020 which is already showing. \n",
    " \n",
    "In answering the questions of how and what happened, we will check ;\n",
    "\n",
    "+ The Weather Condition for High Trips completed for the Major Transport type in 2018 & 2019\n",
    "+ The weather condition for less Trips completed for the major tranport type in 2018 & 2019\n",
    "+ Compare the above insights from 2018 & 2019 to check the current status of 2020. \n",
    "\n",
    "Insights from the diagnostic analysis will be useful in engineering new features that will be used to train the machine learning model to make predictioin of what the transport trips completion status will be with respect a given weather condition"
   ]
  },
  {
   "cell_type": "markdown",
   "metadata": {},
   "source": [
    " "
   ]
  },
  {
   "cell_type": "markdown",
   "metadata": {},
   "source": [
    " \n",
    " \n",
    " \n",
    "###### Transport Type Analysis"
   ]
  },
  {
   "cell_type": "code",
   "execution_count": 164,
   "metadata": {},
   "outputs": [
    {
     "data": {
      "image/png": "[encoded data removed]",
      "text/plain": [
       "<Figure size 576x504 with 1 Axes>"
      ]
     },
     "metadata": {},
     "output_type": "display_data"
    }
   ],
   "source": [
    "plt.figure(figsize = (8,7))\n",
    "data.groupby(['transport_type'])['trips'].sum().plot.bar()\n",
    "plt.xlabel('Year')\n",
    "plt.ylabel('Total number of Trips completed')\n",
    "plt.title('Trips completed per transport type ')\n",
    "plt.tight_layout()"
   ]
  },
  {
   "cell_type": "markdown",
   "metadata": {},
   "source": [
    " + From above we see that `Metro` and `Bus` transport type had the highest trip completion across the years, `Marine` and `Tram` had little trip completions, hence we can combined both `Marine` & `Tram` to a unique label `Others` to help improve the machine learning model\n",
    " \n",
    " \n",
    " + Checking which period of the day were trip completed most across all the years"
   ]
  },
  {
   "cell_type": "code",
   "execution_count": 165,
   "metadata": {},
   "outputs": [
    {
     "data": {
      "image/png": "[encoded data removed]",
      "text/plain": [
       "<Figure size 576x504 with 1 Axes>"
      ]
     },
     "metadata": {},
     "output_type": "display_data"
    },
    {
     "data": {
      "image/png": "[encoded data removed]",
      "text/plain": [
       "<Figure size 576x504 with 1 Axes>"
      ]
     },
     "metadata": {},
     "output_type": "display_data"
    },
    {
     "data": {
      "image/png": "[encoded data removed]",
      "text/plain": [
       "<Figure size 576x504 with 1 Axes>"
      ]
     },
     "metadata": {},
     "output_type": "display_data"
    }
   ],
   "source": [
    "year = [2018,2019,2020]\n",
    "\n",
    "for i in year:\n",
    "    plt.figure(figsize = (8,7))\n",
    "    data_year = data[data['year']==i]\n",
    "    sns.barplot(x='transport_type',y='trips',data=data_year,hue='period')  \n",
    "    plt.xlabel('Transport Type')\n",
    "    plt.ylabel('Total number of Trips completed')\n",
    "    plt.title('Trips completed per transport type in '+ str(i))"
   ]
  },
  {
   "cell_type": "markdown",
   "metadata": {},
   "source": [
    "From the chart above we see that in `2018` there seems to be an even distribution in the number of trips completed during the day and at Night for both `Metro` and `Bus` which are the most patronized transport type. In `2019` more trips were completed during the day, however in `2020` so far trips are completed a little more at Night than at Day\n"
   ]
  },
  {
   "cell_type": "markdown",
   "metadata": {},
   "source": [
    "###### Main Weather Analysis on Transport type trip completion"
   ]
  },
  {
   "cell_type": "code",
   "execution_count": 166,
   "metadata": {},
   "outputs": [
    {
     "data": {
      "text/plain": [
       "clear           43508\n",
       "clouds          15904\n",
       "dust             4183\n",
       "haze             1658\n",
       "rain              603\n",
       "mist              462\n",
       "fog               305\n",
       "thunderstorm      108\n",
       "smoke              16\n",
       "Name: Main, dtype: int64"
      ]
     },
     "execution_count": 166,
     "metadata": {},
     "output_type": "execute_result"
    }
   ],
   "source": [
    "data.Main.value_counts()"
   ]
  },
  {
   "cell_type": "code",
   "execution_count": 167,
   "metadata": {},
   "outputs": [
    {
     "data": {
      "image/png": "[encoded data removed]",
      "text/plain": [
       "<Figure size 576x504 with 1 Axes>"
      ]
     },
     "metadata": {},
     "output_type": "display_data"
    }
   ],
   "source": [
    "plt.figure(figsize = (8,7))\n",
    "sns.countplot(x='Main',data=data)\n",
    "plt.xlabel('Main Weather conditions')\n",
    "plt.ylabel('Frequency')\n",
    "plt.title('Count of Weather condition')\n",
    "plt.tight_layout()"
   ]
  },
  {
   "cell_type": "markdown",
   "metadata": {},
   "source": [
    "We see that `Clouds` , `Clear` & `Dust` weather condition are the most common, we can classify some of the less common which are similar such as `mist`, `fog` ,`smoke` and `Dust` as `Atmosphere`"
   ]
  },
  {
   "cell_type": "code",
   "execution_count": 168,
   "metadata": {},
   "outputs": [
    {
     "data": {
      "text/plain": [
       "array(['clouds', 'clear', 'haze', 'mist', 'fog', 'dust', 'rain',\n",
       "       'thunderstorm', 'smoke'], dtype=object)"
      ]
     },
     "execution_count": 168,
     "metadata": {},
     "output_type": "execute_result"
    }
   ],
   "source": [
    "data.Main.unique()"
   ]
  },
  {
   "cell_type": "code",
   "execution_count": 169,
   "metadata": {},
   "outputs": [],
   "source": [
    "cloud_map = {'clouds':'clouds','clear':'clear','haze':'atmosphere','mist':'atmosphere',\n",
    "             'fog':'atmosphere','dust':'atmosphere','smoke':'atmosphere',\n",
    "             'thunderstorm':'thunderstorm','rain':'rain'}\n",
    "data.Main = data.Main.map(cloud_map)"
   ]
  },
  {
   "cell_type": "code",
   "execution_count": 170,
   "metadata": {},
   "outputs": [
    {
     "data": {
      "image/png": "[encoded data removed]",
      "text/plain": [
       "<Figure size 576x504 with 1 Axes>"
      ]
     },
     "metadata": {},
     "output_type": "display_data"
    }
   ],
   "source": [
    "plt.figure(figsize = (8,7))\n",
    "sns.countplot(x='Main',data=data)\n",
    "plt.xlabel('Main Weather conditions')\n",
    "plt.ylabel('Frequency')\n",
    "plt.title('Count of Weather condition')\n",
    "plt.tight_layout()"
   ]
  },
  {
   "cell_type": "code",
   "execution_count": null,
   "metadata": {},
   "outputs": [],
   "source": []
  },
  {
   "cell_type": "code",
   "execution_count": 171,
   "metadata": {},
   "outputs": [],
   "source": [
    "def plot_weather(data,year): \n",
    "    \"\"\"Plot of weather analysis for the trips completed in a year\n",
    "    \n",
    "    Args:\n",
    "        data : dataframe to be use to make the visualization\n",
    "        year : The year in scope to analyze\n",
    "        \n",
    "    Return:\n",
    "          Display of the visualization\n",
    "    \"\"\"\n",
    "    print(\"Weather Condition Analysis of Trips Completed in year {}\".format(year))\n",
    "    weather = data.Main.unique().tolist()\n",
    "    plt.subplots(3,2,figsize=(20,20))\n",
    "    for k,i in enumerate(weather,1):\n",
    "        plt.subplot(3,2,k)\n",
    "        data_weather = data[(data['Main']==i) & (data['year']==year)]\n",
    "        sns.barplot(x='transport_type',y='trips',data=data_weather,hue='period')  \n",
    "        plt.xlabel('Transport Type',fontsize=16)\n",
    "        plt.ylabel('Total number of Trips completed',fontsize=16)\n",
    "        plt.title('Trips completed per transport type due to '+ str(i),fontsize=16)\n",
    "        plt.tight_layout()"
   ]
  },
  {
   "cell_type": "code",
   "execution_count": 172,
   "metadata": {},
   "outputs": [
    {
     "name": "stdout",
     "output_type": "stream",
     "text": [
      "Weather Condition Analysis of Trips Completed in year 2018\n"
     ]
    },
    {
     "data": {
      "image/png": "[encoded data removed]",
      "text/plain": [
       "<Figure size 1440x1440 with 6 Axes>"
      ]
     },
     "metadata": {},
     "output_type": "display_data"
    }
   ],
   "source": [
    "plot_weather(data,2018)"
   ]
  },
  {
   "cell_type": "code",
   "execution_count": 173,
   "metadata": {},
   "outputs": [
    {
     "name": "stdout",
     "output_type": "stream",
     "text": [
      "Weather Condition Analysis of Trips Completed in year 2019\n"
     ]
    },
    {
     "data": {
      "image/png": "[encoded data removed]",
      "text/plain": [
       "<Figure size 1440x1440 with 6 Axes>"
      ]
     },
     "metadata": {},
     "output_type": "display_data"
    }
   ],
   "source": [
    "plot_weather(data,2019)"
   ]
  },
  {
   "cell_type": "code",
   "execution_count": 174,
   "metadata": {},
   "outputs": [
    {
     "name": "stdout",
     "output_type": "stream",
     "text": [
      "Weather Condition Analysis of Trips Completed in year 2020\n"
     ]
    },
    {
     "data": {
      "image/png": "[encoded data removed]",
      "text/plain": [
       "<Figure size 1440x1440 with 6 Axes>"
      ]
     },
     "metadata": {},
     "output_type": "display_data"
    }
   ],
   "source": [
    "plot_weather(data,2020)"
   ]
  },
  {
   "cell_type": "markdown",
   "metadata": {},
   "source": [
    "#### Insights Generated \n",
    "\n",
    "After analysis the weather condition across the years to determine the impact on trips completion, the following information was observed;\n",
    "\n",
    "+ Given that `2018` had the highest number of trips completed, the trip completion rate was evenly distributed for both periods of `Day` & `Night` for all the weather condition with `Clear` & `Clouds` condition having the highest proportion of trips completed which can be term as `good weathers`. A focus on what can be term as bad weather `Rain` & `Thunderstorm`, we see that \n",
    "though the number of trips completed is less compared to the good weather condition, however the trips completion rate was also evenly distributed for both periods of `Day` and `Night`\n",
    "\n",
    "+ In 2019, a focus on the bad weather condition `Rain` & `thunderstorm` when compared to the trips completion rate for 2018, we observed a varying different in the trip completion rate where;\n",
    "1. Less trips were completed at Night during `Raining` weather condition and an uneven distribution of trips completion for between `Day` and `Night`\n",
    "2. More trips were completed at Night during `Thunderstorm` weather condition and also unevenly distributed\n",
    "3. Few trips were completed at Night during `Atmosphere` weather condition such as `Fog` , `Mist` , `Smoke` etc\n",
    "\n",
    "\n",
    "An Hypothesis we can draw is that there is a possiblity that when there is `Rain` which is accompanied by `Thunderstorm` trip completion rate is drastically reduced during the `Day` with a minute tradeoff of little increase in trip completion at `Night`. \n",
    "\n",
    "To reject or accept the hypothesis the following will be performed;\n",
    "\n",
    "- Explore the raining season with domain knowledge to determine the impact on trips completion in 2018 & 2020\n",
    "\n",
    "According to the research <a href='https://www.climatestotravel.com/climate/united-arab-emirates/dubai'>here</a>, it is important to note that `Rainfall` in Dubai is infrequent and does not last for a long period. It mostly rains during the winter period between `December and March` in the form of short downpours and an **occasional thunderstorm.**\n",
    "\n",
    "First let's explore the year that had ` Occassional Thunderstorm` during the raining season"
   ]
  },
  {
   "cell_type": "code",
   "execution_count": 175,
   "metadata": {},
   "outputs": [
    {
     "data": {
      "text/plain": [
       "Text(0.5, 1.0, 'Occassional thunderstorm conditions distribution count per year')"
      ]
     },
     "execution_count": 175,
     "metadata": {},
     "output_type": "execute_result"
    },
    {
     "data": {
      "image/png": "[encoded data removed]",
      "text/plain": [
       "<Figure size 576x504 with 1 Axes>"
      ]
     },
     "metadata": {},
     "output_type": "display_data"
    }
   ],
   "source": [
    "plt.figure(figsize = (8,7))\n",
    "Raining_period = ['Dec','Jan','Feb','Mar']\n",
    "data_rain = data[data['month_name'].isin(Raining_period)]\n",
    "thunderstorm = data_rain[(data_rain['Main']=='thunderstorm')]\n",
    "sns.countplot(x='year',data=thunderstorm)\n",
    "plt.xlabel('year')\n",
    "plt.ylabel('Frequency')\n",
    "plt.title('Occassional thunderstorm conditions distribution count per year')"
   ]
  },
  {
   "cell_type": "markdown",
   "metadata": {},
   "source": [
    "It is interesting to know that there was no `occassional thunderstorm` in year 2018 at all as against the corresponding year 2019 & 2020 which experienced an occassional thunderstorm with `2020` having the highest impact of the condition. An interesting discovery it is which implies that we can accept the `Null Hypothesis` that `Thunderstorm` really have a significant impact the transport trip completion. \n",
    "\n",
    "we can further explore the `windspeed` as well as the `pressure` to be definite on the type of `Thunderstorm` that impact trip completion more given that there are different types of `Thunderstorm` such as ;\n",
    "+ Thunderstorm with light rain\n",
    "+ Thunderstorm with Heavy rain\n",
    "+ Thunderstorm with light drizzle\n",
    "+ Thunderstorm with heavy drizzle etc. as explained <a href='https://openweathermap.org/weather-conditions'>here</a>\n",
    "\n",
    "This project wouldn't be drilling down and exploring further. However, with the insights gathered we can Engineer a binary feature which check if there was thunderstorm or not for our model to learn "
   ]
  },
  {
   "cell_type": "code",
   "execution_count": 176,
   "metadata": {},
   "outputs": [],
   "source": [
    "def plot_badweather(data,year): \n",
    "    \"\"\"Plot of weather analysis for the trips completed in a year\n",
    "    \n",
    "    Args:\n",
    "        data : dataframe to be use to make the visualization\n",
    "        year : The year in scope to analyze\n",
    "        \n",
    "    Return:\n",
    "          Display of the visualization\n",
    "    \"\"\"\n",
    "    Raining_period = ['Dec','Jan','Feb','Mar']\n",
    "    data_rain = data[data['month_name'].isin(Raining_period)]\n",
    "    print(\"Bad weather Analysis of Trips Completed in year {}\".format(year))\n",
    "    weather = ['rain','thunderstorm']\n",
    "    plt.subplots(2,1,figsize=(10,10))\n",
    "    for k,i in enumerate(weather,1):\n",
    "        plt.subplot(2,1,k)\n",
    "        data_weather = data_rain[(data_rain['Main']==i) & (data_rain['year']==year)]\n",
    "        sns.barplot(x='transport_type',y='trips',data=data_weather,hue='period')  \n",
    "        plt.xlabel('Transport Type')\n",
    "        plt.ylabel('Total number of Trips completed')\n",
    "        plt.title('Trips completed per transport type due to '+ str(i))\n",
    "        plt.tight_layout()"
   ]
  },
  {
   "cell_type": "code",
   "execution_count": 177,
   "metadata": {},
   "outputs": [
    {
     "name": "stdout",
     "output_type": "stream",
     "text": [
      "Bad weather Analysis of Trips Completed in year 2019\n"
     ]
    },
    {
     "data": {
      "image/png": "[encoded data removed]",
      "text/plain": [
       "<Figure size 720x720 with 2 Axes>"
      ]
     },
     "metadata": {},
     "output_type": "display_data"
    }
   ],
   "source": [
    "plot_badweather(data,2019)"
   ]
  },
  {
   "cell_type": "code",
   "execution_count": 178,
   "metadata": {},
   "outputs": [
    {
     "name": "stdout",
     "output_type": "stream",
     "text": [
      "Bad weather Analysis of Trips Completed in year 2020\n"
     ]
    },
    {
     "data": {
      "image/png": "[encoded data removed]",
      "text/plain": [
       "<Figure size 720x720 with 2 Axes>"
      ]
     },
     "metadata": {},
     "output_type": "display_data"
    }
   ],
   "source": [
    "plot_badweather(data,2020)"
   ]
  },
  {
   "cell_type": "markdown",
   "metadata": {},
   "source": [
    "+ Checking to see if there are correlated features which will have similar relationship with the target to drop"
   ]
  },
  {
   "cell_type": "markdown",
   "metadata": {},
   "source": [
    "### Remove Correlated Features"
   ]
  },
  {
   "cell_type": "code",
   "execution_count": 179,
   "metadata": {},
   "outputs": [
    {
     "data": {
      "image/png": "[encoded data removed]",
      "text/plain": [
       "<Figure size 720x720 with 2 Axes>"
      ]
     },
     "metadata": {},
     "output_type": "display_data"
    }
   ],
   "source": [
    "corr=data.corr()\n",
    "plt.figure(figsize=(10, 10))\n",
    "sns.heatmap(corr, vmax=.8, linewidths=0.01,\n",
    "            square=True,annot=True,cmap='YlGnBu',linecolor=\"white\")\n",
    "plt.title('Correlation between features');"
   ]
  },
  {
   "cell_type": "markdown",
   "metadata": {},
   "source": [
    "As seen that some features are correlated `Feels_like` & `temp_average` & `lon` & `lat` , an option will be to drop one of the features if after evaluation the trained model isn't improved also to help improve **Interpretability of the model**"
   ]
  },
  {
   "cell_type": "markdown",
   "metadata": {},
   "source": [
    "### Feature Engineering \n",
    "\n",
    "Transforming all the categorical features to numerical that can be used to train the machine learning model"
   ]
  },
  {
   "cell_type": "code",
   "execution_count": null,
   "metadata": {},
   "outputs": [],
   "source": []
  },
  {
   "cell_type": "code",
   "execution_count": 180,
   "metadata": {},
   "outputs": [],
   "source": [
    "thunder_map = {'clear':0,'clouds':0,'atmosphere':0,'rain':0,'thunderstorm':1}\n",
    "year_map = {2018:1,2019:2,2020:3}\n",
    "main_map = {'clear':'clear','clouds':'clouds','rain':'others','thunderstorm':'others','atmosphere':'atmosphere'}\n",
    "data['Thunderstorm'] = data['Main'].map(thunder_map)\n",
    "data['year'] =data['year'].map(year_map)\n",
    "data['Main'] = data['Main'].map(main_map)"
   ]
  },
  {
   "cell_type": "code",
   "execution_count": 181,
   "metadata": {},
   "outputs": [
    {
     "name": "stdout",
     "output_type": "stream",
     "text": [
      "<class 'pandas.core.frame.DataFrame'>\n",
      "Int64Index: 66747 entries, 0 to 66746\n",
      "Data columns (total 17 columns):\n",
      " #   Column          Non-Null Count  Dtype  \n",
      "---  ------          --------------  -----  \n",
      " 0   lat             66747 non-null  float64\n",
      " 1   lon             66747 non-null  float64\n",
      " 2   clouds          66747 non-null  object \n",
      " 3   year            66747 non-null  int64  \n",
      " 4   weekdays        66747 non-null  int64  \n",
      " 5   Feels_like      66747 non-null  float64\n",
      " 6   Pressure        66747 non-null  object \n",
      " 7   Humidity        66747 non-null  object \n",
      " 8   Wind_Speed      66747 non-null  float64\n",
      " 9   Wind_Deg        66747 non-null  object \n",
      " 10  Main            66747 non-null  object \n",
      " 11  temp_average    66747 non-null  float64\n",
      " 12  period          66747 non-null  object \n",
      " 13  month_name      66747 non-null  object \n",
      " 14  transport_type  66747 non-null  object \n",
      " 15  trips           66747 non-null  float64\n",
      " 16  Thunderstorm    66747 non-null  int64  \n",
      "dtypes: float64(6), int64(3), object(8)\n",
      "memory usage: 11.7+ MB\n"
     ]
    }
   ],
   "source": [
    "data.info()"
   ]
  },
  {
   "cell_type": "code",
   "execution_count": 182,
   "metadata": {},
   "outputs": [],
   "source": [
    "columns = ['Main','weekdays','period','transport_type','month_name']\n",
    "data = pd.get_dummies(data,columns=columns,drop_first=True)\n",
    "data[['Pressure','Humidity','Wind_Deg','clouds']] = data[['Pressure','Humidity','Wind_Deg','clouds']].astype('float')"
   ]
  },
  {
   "cell_type": "markdown",
   "metadata": {},
   "source": [
    " \n"
   ]
  },
  {
   "cell_type": "markdown",
   "metadata": {},
   "source": [
    "###  4. Data Modelling \n",
    "\n",
    "This is the phase where a Machine learn model is trained using all the explanatory features to make prediction for the target label `Trips`. `Trips` is selected as the target label given that the goal of the project is to predict disruption of Dubai public transport which can be interpreted as the impact of weather on commutation which is the trips completed.\n",
    "\n",
    "The evaluation metrics to be used to evaluate the performance of the model is `R_squared` to help determine how the explanatory features are significant in explaining the variability of the target "
   ]
  },
  {
   "cell_type": "markdown",
   "metadata": {},
   "source": [
    "+ Importing important libraries required for modelling"
   ]
  },
  {
   "cell_type": "code",
   "execution_count": 184,
   "metadata": {},
   "outputs": [],
   "source": [
    "from sklearn.preprocessing import StandardScaler\n",
    "from sklearn.model_selection import train_test_split\n",
    "from sklearn.model_selection import KFold\n",
    "from sklearn.model_selection import cross_val_score\n",
    "from sklearn.linear_model import LinearRegression\n",
    "from sklearn.tree import DecisionTreeRegressor\n",
    "from sklearn.neighbors import KNeighborsRegressor\n",
    "from sklearn.ensemble import GradientBoostingRegressor\n",
    "from sklearn.metrics import r2_score\n",
    "import warnings\n",
    "warnings.filterwarnings('ignore')"
   ]
  },
  {
   "cell_type": "markdown",
   "metadata": {},
   "source": [
    "+ Creating a Validation Set to be used to select a baseline model"
   ]
  },
  {
   "cell_type": "code",
   "execution_count": 185,
   "metadata": {},
   "outputs": [],
   "source": [
    "# Split-out validation dataset\n",
    "X = data.drop(['trips'],axis=1)\n",
    "Y= data['trips']\n",
    "validation_size = 0.20\n",
    "seed = 7\n",
    "X_train, X_validation, ytrain, yvalidation = train_test_split(X, Y, test_size=validation_size, random_state=seed)"
   ]
  },
  {
   "cell_type": "code",
   "execution_count": 186,
   "metadata": {},
   "outputs": [
    {
     "data": {
      "text/plain": [
       "((53397, 35), (13350, 35))"
      ]
     },
     "execution_count": 186,
     "metadata": {},
     "output_type": "execute_result"
    }
   ],
   "source": [
    "X_train.shape, X_validation.shape"
   ]
  },
  {
   "cell_type": "code",
   "execution_count": 188,
   "metadata": {},
   "outputs": [],
   "source": [
    "num_folds = 10\n",
    "seed = 7\n",
    "R2 = 'r2'\n",
    "# Spot Check few Algorithms\n",
    "models = []\n",
    "models.append(('LR', LinearRegression()))\n",
    "models.append(('KNN', KNeighborsRegressor()))\n",
    "models.append(('CART', DecisionTreeRegressor()))\n",
    "models.append(('GB',GradientBoostingRegressor()))"
   ]
  },
  {
   "cell_type": "markdown",
   "metadata": {},
   "source": [
    "### 5. Result and Evalution\n",
    "\n",
    "After selecting all the algorithms to be used to train the machine learning model, the results need will be evaluated to select the baseline model to improve."
   ]
  },
  {
   "cell_type": "code",
   "execution_count": 189,
   "metadata": {},
   "outputs": [
    {
     "name": "stdout",
     "output_type": "stream",
     "text": [
      "LR: 0.7724538353110713 0.004688685956395516\n",
      "KNN: 0.06913799588491851 0.013173344887201933\n",
      "CART: 0.9999962241169195 3.873468729874052e-06\n",
      "GB: 0.9860423570101974 0.001426326504846694\n"
     ]
    }
   ],
   "source": [
    "results = []\n",
    "names = []\n",
    "for name, model in models:\n",
    "    kfold = KFold(n_splits=num_folds, random_state=seed)\n",
    "    cv_results = cross_val_score(model, X_train, ytrain, cv=kfold, scoring=R2)\n",
    "    results.append(abs(cv_results))\n",
    "    names.append(name)\n",
    "    msg = '{}: {} {}'.format(name, abs(cv_results.mean()), abs(cv_results.std()))\n",
    "    print(msg)"
   ]
  },
  {
   "cell_type": "markdown",
   "metadata": {},
   "source": [
    "#### Compare Algorithms Results\n",
    "\n",
    "From the output seen above from the cross validation we can see that `CART` & `GB` had a better accuracy which can selected as the baseline model to improve on. However, for this project `Gradient Boosting` will be selected"
   ]
  },
  {
   "cell_type": "code",
   "execution_count": 197,
   "metadata": {},
   "outputs": [
    {
     "name": "stdout",
     "output_type": "stream",
     "text": [
      "0.9960754457850877\n"
     ]
    }
   ],
   "source": [
    "# preparing the model\n",
    "scaler = StandardScaler().fit(X_train)\n",
    "rescaledX = scaler.transform(X_train)\n",
    "model = GradientBoostingRegressor(random_state=seed, n_estimators=400)\n",
    "model.fit(rescaledX, ytrain)\n",
    "# transform the validation dataset\n",
    "rescaledValidationX = scaler.transform(X_validation)\n",
    "predictions = model.predict(rescaledValidationX)\n",
    "print(r2_score(yvalidation, predictions))"
   ]
  },
  {
   "cell_type": "markdown",
   "metadata": {},
   "source": [
    "### 6. Deployment\n",
    "\n",
    "The Deployment to be executed for this project will be in the form of story telling using a blog or article which is available <a href='#'>here</a> for your consumption and don't forget to drop your feedbacks.\n",
    "A web application may be considered in the future as well as further analysis to discover insights that will be useful in training the machine learning model to improve the current performance of the model in making predictions for unseen future data. \n",
    "\n",
    "Thank you for the time"
   ]
  }
 ],
 "metadata": {
  "kernelspec": {
   "display_name": "Python 3",
   "language": "python",
   "name": "python3"
  },
  "language_info": {
   "codemirror_mode": {
    "name": "ipython",
    "version": 3
   },
   "file_extension": ".py",
   "mimetype": "text/x-python",
   "name": "python",
   "nbconvert_exporter": "python",
   "pygments_lexer": "ipython3",
   "version": "3.7.6"
  }
 },
 "nbformat": 4,
 "nbformat_minor": 4
}
